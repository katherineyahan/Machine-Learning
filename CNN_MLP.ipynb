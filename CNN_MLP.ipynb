{
  "cells": [
    {
      "cell_type": "markdown",
      "metadata": {
        "id": "Tut3HGr29_Bf"
      },
      "source": [
        "# data preprocessing\n"
      ]
    },
    {
      "cell_type": "code",
      "execution_count": null,
      "metadata": {
        "id": "qY8H4xZEhCr6"
      },
      "outputs": [],
      "source": [
        "import random\n",
        "random.seed(1234)"
      ]
    },
    {
      "cell_type": "code",
      "execution_count": null,
      "metadata": {
        "id": "IVqUTA4sTeE0"
      },
      "outputs": [],
      "source": [
        "import os\n",
        "import numpy as np\n",
        "import shutil\n",
        "import pandas as pd\n",
        "import matplotlib.pyplot as plt\n",
        "import seaborn as sns\n",
        "import itertools\n",
        "from matplotlib import pyplot\n",
        "import matplotlib.image as mpimg\n",
        "\n",
        "from sklearn.model_selection import train_test_split\n",
        "import keras\n",
        "import tensorflow as tf\n",
        "from tensorflow.keras.preprocessing.image import ImageDataGenerator\n",
        "from keras.layers import BatchNormalization\n",
        "from tensorflow.keras.models import Sequential\n",
        "from tensorflow.keras.utils import to_categorical\n",
        "from tensorflow.keras.models import model_from_json\n",
        "from tensorflow.keras.layers import Dense\n",
        "from tensorflow.keras.layers import Conv2D\n",
        "from tensorflow.keras.layers import MaxPool2D, Dropout, MaxPooling2D, Activation, ZeroPadding2D\n",
        "from tensorflow.keras.layers import Flatten\n",
        "from tensorflow.keras.callbacks import EarlyStopping, ModelCheckpoint"
      ]
    },
    {
      "cell_type": "code",
      "execution_count": null,
      "metadata": {
        "colab": {
          "base_uri": "https://localhost:8080/"
        },
        "id": "epxEMfq9r-hu",
        "outputId": "dde35c57-bfbc-483c-f034-4b7557ec8564"
      },
      "outputs": [
        {
          "output_type": "stream",
          "name": "stdout",
          "text": [
            "Downloading data from https://storage.googleapis.com/tensorflow/tf-keras-datasets/train-labels-idx1-ubyte.gz\n",
            "29515/29515 [==============================] - 0s 0us/step\n",
            "Downloading data from https://storage.googleapis.com/tensorflow/tf-keras-datasets/train-images-idx3-ubyte.gz\n",
            "26421880/26421880 [==============================] - 2s 0us/step\n",
            "Downloading data from https://storage.googleapis.com/tensorflow/tf-keras-datasets/t10k-labels-idx1-ubyte.gz\n",
            "5148/5148 [==============================] - 0s 0us/step\n",
            "Downloading data from https://storage.googleapis.com/tensorflow/tf-keras-datasets/t10k-images-idx3-ubyte.gz\n",
            "4422102/4422102 [==============================] - 0s 0us/step\n"
          ]
        }
      ],
      "source": [
        "#load dataset\n",
        "(train_images, train_labels), (test_images, test_labels) = tf.keras.datasets.fashion_mnist.load_data()"
      ]
    },
    {
      "cell_type": "code",
      "execution_count": null,
      "metadata": {
        "id": "oTKeCyaNYujw"
      },
      "outputs": [],
      "source": [
        "#train_images"
      ]
    },
    {
      "cell_type": "code",
      "execution_count": null,
      "metadata": {
        "colab": {
          "base_uri": "https://localhost:8080/"
        },
        "id": "ClYdlz8rYxcy",
        "outputId": "ff29617a-f469-49f3-ce32-45befe618fd5"
      },
      "outputs": [
        {
          "output_type": "execute_result",
          "data": {
            "text/plain": [
              "array([9, 0, 0, ..., 3, 0, 5], dtype=uint8)"
            ]
          },
          "metadata": {},
          "execution_count": 5
        }
      ],
      "source": [
        "train_labels"
      ]
    },
    {
      "cell_type": "code",
      "execution_count": null,
      "metadata": {
        "colab": {
          "base_uri": "https://localhost:8080/"
        },
        "id": "35a5_dNMtXlO",
        "outputId": "ff7161e4-c1e3-4471-de73-669fbdf3dfb1"
      },
      "outputs": [
        {
          "output_type": "stream",
          "name": "stdout",
          "text": [
            "(60000, 28, 28)\n",
            "(60000,)\n",
            "(10000, 28, 28)\n",
            "(10000,)\n"
          ]
        }
      ],
      "source": [
        "print(train_images.shape) # (60000, 28, 28)\n",
        "print(train_labels.shape) # (60000,)\n",
        "print(test_images.shape) # (10000, 28, 28)\n",
        "print(test_labels.shape) # (10000,)"
      ]
    },
    {
      "cell_type": "code",
      "execution_count": null,
      "metadata": {
        "colab": {
          "base_uri": "https://localhost:8080/",
          "height": 591
        },
        "id": "LpLHZXohtcXN",
        "outputId": "2d32f0d5-232b-4ae7-8b68-b81f70b4b6dd"
      },
      "outputs": [
        {
          "output_type": "display_data",
          "data": {
            "text/plain": [
              "<Figure size 720x720 with 9 Axes>"
            ],
            "image/png": "[encoded data removed]"
          },
          "metadata": {
            "needs_background": "light"
          }
        }
      ],
      "source": [
        "# Visualizing the MNIST images\n",
        "sample_img_idx = np.random.randint(0, train_images.shape[0]+1, 9)\n",
        "plt.figure(figsize=(10,10))\n",
        "for i, j in enumerate(sample_img_idx):\n",
        "    image, label = train_images[j], train_labels[j]\n",
        "    ax=plt.subplot(3,3,i+1)\n",
        "    plt.imshow(image, cmap=pyplot.get_cmap('gray'))\n",
        "    plt.title(label)\n",
        "    plt.axis('off')"
      ]
    },
    {
      "cell_type": "code",
      "execution_count": null,
      "metadata": {
        "colab": {
          "base_uri": "https://localhost:8080/"
        },
        "id": "bXhDtTsitfGq",
        "outputId": "512d24fc-1779-460b-fa9d-d686aba47686"
      },
      "outputs": [
        {
          "output_type": "stream",
          "name": "stdout",
          "text": [
            "(60000, 28, 28, 1)\n",
            "(10000, 28, 28, 1)\n",
            "(60000, 10)\n",
            "(10000, 10)\n"
          ]
        }
      ],
      "source": [
        "# Normalizing and reshaping the data**\n",
        "#First, we normalize the image pixel values from [0, 255] to [-0.5, 0.5]. \n",
        "#Second, we reshape the images from (28, 28) to (28, 28, 1) to add the third dimension required by Keras\n",
        "\n",
        "# Normalize the images\n",
        "train_images = (train_images / 255) - 0.5\n",
        "test_images = (test_images / 255) - 0.5\n",
        "\n",
        "# Reshape the images.\n",
        "train_images = np.expand_dims(train_images, axis=3)\n",
        "test_images = np.expand_dims(test_images, axis=3)\n",
        "\n",
        "print(train_images.shape) # (60000, 28, 28, 1)\n",
        "print(test_images.shape)  # (10000, 28, 28, 1)\n",
        "\n",
        "train_labels = to_categorical(train_labels)\n",
        "test_labels = to_categorical(test_labels)\n",
        "print(train_labels.shape) # (60000, 10)\n",
        "print(test_labels.shape)  # (10000, 10)"
      ]
    },
    {
      "cell_type": "code",
      "source": [
        "# inputs for CNN convolutional layers (not flattened)\n",
        "x_train_img = x_train.reshape(60000,28,28,1)/255\n",
        "x_test_img = x_test.reshape(10000,28,28,1)/255"
      ],
      "metadata": {
        "id": "cCJhlRQneils"
      },
      "execution_count": null,
      "outputs": []
    },
    {
      "cell_type": "code",
      "source": [
        "# we need to flatten the images so we can put it into the MLP \n",
        "x_train = x_train.reshape(60000, 28*28)\n",
        "x_test = x_test.reshape(10000, 28*28)"
      ],
      "metadata": {
        "id": "a5bDUu9Ke4kC"
      },
      "execution_count": null,
      "outputs": []
    },
    {
      "cell_type": "code",
      "source": [
        "#nomalization \n",
        "xmean_train = np.mean(x_train,axis=1).reshape(60000,1)\n",
        "xmean_test = np.mean(x_test, axis=1).reshape(10000,1)\n",
        "xstd_train = np.std(x_train,axis=1).reshape(60000,1)\n",
        "xstd_test = np.std(x_test,axis=1).reshape(10000,1)\n",
        "\n",
        "# unormalized training data\n",
        "x_train_unnorm = x_train\n",
        "x_test_unnorm = x_test\n",
        "x_train = (x_train - xmean_train)/xstd_train # subtract the mean to center the cloud of data around the origin along every dimension (the data is centered at 0)\n",
        "x_test = (x_test - xmean_test)/xstd_test"
      ],
      "metadata": {
        "id": "dtA2p6nse6Uy"
      },
      "execution_count": null,
      "outputs": []
    },
    {
      "cell_type": "code",
      "source": [
        "# change labels from N x 1 to N x C\n",
        "y_train_C = keras.utils.to_categorical(y_train,10)\n",
        "y_test_C = keras.utils.to_categorical(y_test,10)"
      ],
      "metadata": {
        "id": "O1QUKCyge9Vy"
      },
      "execution_count": null,
      "outputs": []
    },
    {
      "cell_type": "code",
      "source": [
        "class_names = ['T-shirt/top', 'Trouser', 'Pullover', 'Dress', 'Coat', 'Sandal', 'Shirt', 'Sneaker', 'Bag', 'Ankle boot']\n",
        "labels = []\n",
        "for i in range(len(y_train)):\n",
        "  labels.append(class_names[y_train[i]])"
      ],
      "metadata": {
        "id": "sKNcY_Ore_Lx"
      },
      "execution_count": null,
      "outputs": []
    },
    {
      "cell_type": "code",
      "source": [
        "count = pd.Series(labels[:]).value_counts()\n",
        "print(count)"
      ],
      "metadata": {
        "id": "g_RsRPIzfBEh"
      },
      "execution_count": null,
      "outputs": []
    },
    {
      "cell_type": "code",
      "source": [
        "import seaborn as sns\n",
        "\n",
        "count.plot.bar(rot=0) \n",
        "plt.xticks(rotation ='vertical')\n",
        "plt.title(\"Number of Classes for Train Data\")\n",
        "plt.show()"
      ],
      "metadata": {
        "id": "CRkFVqzPfBvo"
      },
      "execution_count": null,
      "outputs": []
    },
    {
      "cell_type": "markdown",
      "metadata": {
        "id": "3fq22Gqk-K_C"
      },
      "source": [
        "# CNN without max pooling layer\n"
      ]
    },
    {
      "cell_type": "code",
      "source": [],
      "metadata": {
        "id": "BDDusU3wxFHp"
      },
      "execution_count": null,
      "outputs": []
    },
    {
      "cell_type": "code",
      "execution_count": null,
      "metadata": {
        "id": "3Xs_1ndlCts5"
      },
      "outputs": [],
      "source": [
        "num_filters = 8\n",
        "filter_size = 3\n",
        "pool_size   = 3\n",
        "num_classes = 10\n",
        "batch_size  = 64\n",
        "input_shape = (train_images.shape[1:]) # (28, 28, 1)\n",
        "strides     = 1\n",
        "padding     = 'valid' # valid: no padding, same: for zeros evenly right/left and up/down. \n",
        "                      # When padding=\"same\" and strides=1, the output has the same size as the input\n",
        "model = Sequential()\n",
        "model.add(Conv2D(filters = 4 * num_filters,\n",
        "                 kernel_size = filter_size,\n",
        "                 strides     = strides,\n",
        "                 input_shape = input_shape,\n",
        "                 padding     = padding,\n",
        "                 activation  = 'relu')) # Sequential model needs the input shape\n",
        "\n",
        "model.add(Conv2D(filters = 8 * num_filters, kernel_size = (filter_size, filter_size)))\n",
        "\n",
        "model.add(Dropout(0.25)) # randomly sets input units to 0 with a frequency of rate at each step during training time, to avoid overfitting\n",
        " # Flatten serves as a connection between the convolution and dense layers\n",
        "model.add(Flatten())\n",
        "model.add(Dense(128,activation='relu'))\n",
        "model.add(Dense(128,activation='relu'))\n",
        "#output layer\n",
        "model.add(Dense(num_classes, activation='softmax')) # output layer"
      ]
    },
    {
      "cell_type": "code",
      "execution_count": null,
      "metadata": {
        "colab": {
          "base_uri": "https://localhost:8080/"
        },
        "id": "6ERR-IVqC6oU",
        "outputId": "9f75dc68-a9b1-4129-b667-9ef06c76bb5f"
      },
      "outputs": [
        {
          "output_type": "stream",
          "name": "stdout",
          "text": [
            "Model: \"sequential\"\n",
            "_________________________________________________________________\n",
            " Layer (type)                Output Shape              Param #   \n",
            "=================================================================\n",
            " conv2d_44 (Conv2D)          (None, 26, 26, 32)        320       \n",
            "                                                                 \n",
            " conv2d_45 (Conv2D)          (None, 24, 24, 64)        18496     \n",
            "                                                                 \n",
            " dropout (Dropout)           (None, 24, 24, 64)        0         \n",
            "                                                                 \n",
            " flatten (Flatten)           (None, 36864)             0         \n",
            "                                                                 \n",
            " dense (Dense)               (None, 128)               4718720   \n",
            "                                                                 \n",
            " dense_1 (Dense)             (None, 128)               16512     \n",
            "                                                                 \n",
            " dense_2 (Dense)             (None, 10)                1290      \n",
            "                                                                 \n",
            "=================================================================\n",
            "Total params: 4,755,338\n",
            "Trainable params: 4,755,338\n",
            "Non-trainable params: 0\n",
            "_________________________________________________________________\n"
          ]
        }
      ],
      "source": [
        "# Summary of the model \n",
        "model.summary()"
      ]
    },
    {
      "cell_type": "code",
      "execution_count": null,
      "metadata": {
        "colab": {
          "base_uri": "https://localhost:8080/",
          "height": 865
        },
        "id": "yCZm5BJ0JMX0",
        "outputId": "18b22663-e44b-4bd9-c046-7569fda00b39"
      },
      "outputs": [
        {
          "output_type": "execute_result",
          "data": {
            "image/png": "[encoded data removed]",
            "text/plain": [
              "<IPython.core.display.Image object>"
            ]
          },
          "metadata": {},
          "execution_count": 24
        }
      ],
      "source": [
        "# Plot model \n",
        "keras.utils.plot_model(model, \"my_mnist_model.png\", show_shapes=True)"
      ]
    },
    {
      "cell_type": "code",
      "execution_count": null,
      "metadata": {
        "id": "BGCxVSNCJY3m"
      },
      "outputs": [],
      "source": [
        "# Compile the model\n",
        "model.compile(\n",
        "  'adam',                             # Optimizer: Adam for gradient descent-based: https://keras.io/api/optimizers/\n",
        "  loss='categorical_crossentropy',    # Loss function: Categorical for 10 classes: https://keras.io/api/losses/\n",
        "  metrics=['accuracy'],               # accuracy metric, can choose from keras metrics: https://keras.io/api/metrics/\n",
        ")"
      ]
    },
    {
      "cell_type": "code",
      "execution_count": null,
      "metadata": {
        "id": "3_1_GV2wN65t"
      },
      "outputs": [],
      "source": [
        "# Train the mdoel\n",
        "# https://keras.io/api/callbacks/\n",
        "\n",
        "epochs = 10\n",
        "\n",
        "# Saving the model during training to be used later\n",
        "checkpoint = ModelCheckpoint(\"mnist_best_model.hdf5\",  # saving the best model\n",
        "                            monitor='val_loss', verbose=1,\n",
        "                            save_weights_only = False, # if True, then only the model's weights will be saved (model.save_weights(filepath)), else the full model is saved (model.save(filepath)). \n",
        "                            save_best_only=True,       # only saves when the model is considered the \"best\" and the latest best model according to the quantity monitored will not be overwritten.\n",
        "                            mode='auto',               # the decision to overwrite the current save file is made based on either the maximization or the minimization of the monitored quantity. For val_acc, this should be max, for val_loss this should be min,\n",
        "                            save_freq = 'epoch')       # When using 'epoch', the callback saves the model after each epoch. When using integer, the callback saves the model at end of this many batches.\n"
      ]
    },
    {
      "cell_type": "code",
      "execution_count": null,
      "metadata": {
        "colab": {
          "base_uri": "https://localhost:8080/"
        },
        "id": "aFCmBgcEOAaU",
        "outputId": "3b535175-f8e6-4417-afd7-b5d0f6f36564"
      },
      "outputs": [
        {
          "output_type": "stream",
          "name": "stdout",
          "text": [
            "Epoch 1/10\n",
            "938/938 [==============================] - ETA: 0s - loss: 0.3891 - accuracy: 0.8585\n",
            "Epoch 1: val_loss improved from inf to 0.30261, saving model to mnist_best_model.hdf5\n",
            "938/938 [==============================] - 10s 10ms/step - loss: 0.3891 - accuracy: 0.8585 - val_loss: 0.3026 - val_accuracy: 0.8884\n",
            "Epoch 2/10\n",
            "548/938 [================>.............] - ETA: 3s - loss: 0.2578 - accuracy: 0.9059"
          ]
        }
      ],
      "source": [
        "# Fitting the model\n",
        "history = model.fit(\n",
        "  train_images,\n",
        "  train_labels, \n",
        "  epochs=epochs,                # number of training epochs\n",
        "  batch_size=batch_size,\n",
        "  verbose = 1,\n",
        "  validation_data=(test_images, test_labels), # validation data\n",
        "  callbacks=[checkpoint]      # callback to save the model during trainings \n",
        ")"
      ]
    },
    {
      "cell_type": "code",
      "execution_count": null,
      "metadata": {
        "id": "1r4Tt3FuOGMy"
      },
      "outputs": [],
      "source": [
        "# availale keys in history\n",
        "print(history.history.keys())"
      ]
    },
    {
      "cell_type": "code",
      "execution_count": null,
      "metadata": {
        "id": "_fpvPAeYhaKF"
      },
      "outputs": [],
      "source": [
        "# plot training history\n",
        "plt.figure(figsize=(8,8))\n",
        "\n",
        "# History for accuracy\n",
        "plt.subplot(211)\n",
        "plt.plot(history.history['accuracy'])\n",
        "plt.plot(history.history['val_accuracy'])\n",
        "plt.title('model accuracy')\n",
        "plt.ylabel('accuracy')\n",
        "plt.xlabel('epoch')\n",
        "plt.legend(['train', 'test'], loc='upper right')\n",
        "\n",
        "# History for loss\n",
        "plt.subplot(212)\n",
        "plt.plot(history.history['loss'])\n",
        "plt.plot(history.history['val_loss'])\n",
        "plt.title('model loss')\n",
        "plt.ylabel('loss')\n",
        "plt.xlabel('epoch')\n",
        "plt.legend(['train', 'test'], loc='upper left')\n",
        "plt.show()"
      ]
    },
    {
      "cell_type": "code",
      "source": [
        "max(history.history['val_accuracy'])"
      ],
      "metadata": {
        "id": "_1WrnV2HxBY-"
      },
      "execution_count": null,
      "outputs": []
    },
    {
      "cell_type": "code",
      "execution_count": null,
      "metadata": {
        "id": "N-BvkSIGhca6"
      },
      "outputs": [],
      "source": [
        "# Define confusion matrix\n",
        "def calc_error(predictions, labels):\n",
        "    \"\"\"Return the error rate and confusions.\"\"\"\n",
        "    correct = np.sum(predictions == labels)\n",
        "    total = predictions.shape[0]\n",
        "\n",
        "    error = 100.0 - (100 * float(correct) / float(total))\n",
        "\n",
        "    confusions = np.zeros([10, 10], np.float32)\n",
        "    bundled = zip(predictions, labels)\n",
        "    for predicted, actual in bundled:\n",
        "        confusions[predicted, actual] += 1\n",
        "    \n",
        "    return error, confusions"
      ]
    },
    {
      "cell_type": "code",
      "execution_count": null,
      "metadata": {
        "id": "IJj9K76yhgfy"
      },
      "outputs": [],
      "source": [
        "# Model predictions and confusion matrix\n",
        "test_predictions          = np.argmax(model.predict(test_images),1)\n",
        "test_error, test_conf_mat = calc_error(test_predictions, np.argmax(test_labels,1))\n",
        "print('Test error: %.1f%%' % test_error)\n",
        "\n",
        "plt.figure(figsize=(6, 6))\n",
        "plt.xlabel('Actual')\n",
        "plt.ylabel('Predicted')\n",
        "plt.grid(False)\n",
        "plt.xticks(np.arange(num_classes))\n",
        "plt.yticks(np.arange(num_classes))\n",
        "plt.imshow(test_conf_mat, cmap=plt.cm.jet, interpolation='nearest');\n",
        "\n",
        "for i, cas in enumerate(test_conf_mat):\n",
        "    for j, count in enumerate(cas):\n",
        "        if count > 0:\n",
        "            xoff = .07 * len(str(count))\n",
        "            plt.text(j-xoff, i+.2, int(count), fontsize=9, color='white')"
      ]
    },
    {
      "cell_type": "markdown",
      "metadata": {
        "id": "6WcBK8jR-4oh"
      },
      "source": [
        "# CNN With maxpooling layer\n"
      ]
    },
    {
      "cell_type": "markdown",
      "source": [
        "2:91.8\n",
        "3:91.6\n",
        "4:95.20"
      ],
      "metadata": {
        "id": "N7w19AxGxUHu"
      }
    },
    {
      "cell_type": "code",
      "execution_count": null,
      "metadata": {
        "id": "FttsS_aYtiJZ"
      },
      "outputs": [],
      "source": [
        "num_filters = 8\n",
        "filter_size = 5\n",
        "pool_size   = 4\n",
        "num_classes = 10\n",
        "batch_size  = 64\n",
        "input_shape = (train_images.shape[1:]) # (28, 28, 1)\n",
        "strides     = 1\n",
        "padding     = 'valid' # valid: no padding, same: for zeros evenly right/left and up/down. \n",
        "                      # When padding=\"same\" and strides=1, the output has the same size as the input\n",
        "model = Sequential()\n",
        "model.add(Conv2D(filters = 4 * num_filters,\n",
        "                 kernel_size = filter_size,\n",
        "                 strides     = strides,\n",
        "                 input_shape = input_shape,\n",
        "                 padding     = padding,\n",
        "                 activation  = 'relu')) # Sequential model needs the input shape\n",
        "model.add(MaxPooling2D(pool_size=pool_size)) # Keras automatically infers the shapes of inputs of later layers\n",
        "\n",
        "model.add(Conv2D(filters = 8 * num_filters, kernel_size = (filter_size, filter_size)))\n",
        "model.add(MaxPooling2D(pool_size=(pool_size, pool_size)))\n",
        "\n",
        "model.add(Dropout(0.25)) # randomly sets input units to 0 with a frequency of rate at each step during training time, to avoid overfitting\n",
        "model.add(Flatten()) # Flatten serves as a connection between the convolution and dense layers\n",
        "model.add(Dense(128,activation='relu'))\n",
        "model.add(Dense(128,activation='relu'))\n",
        "model.add(Dense(num_classes, activation='softmax')) # output layer\n",
        "\n"
      ]
    },
    {
      "cell_type": "code",
      "execution_count": null,
      "metadata": {
        "id": "qvz5NRCntmKI"
      },
      "outputs": [],
      "source": [
        "# Summary of the model \n",
        "model.summary()"
      ]
    },
    {
      "cell_type": "code",
      "execution_count": null,
      "metadata": {
        "id": "B6XOUQ8GtnJw"
      },
      "outputs": [],
      "source": [
        "#model_2.summary()"
      ]
    },
    {
      "cell_type": "code",
      "execution_count": null,
      "metadata": {
        "id": "9iItjACutpSM"
      },
      "outputs": [],
      "source": [
        "# Plot model \n",
        "keras.utils.plot_model(model, \"my_mnist_model.png\", show_shapes=True)"
      ]
    },
    {
      "cell_type": "code",
      "execution_count": null,
      "metadata": {
        "id": "NAFAH5lxtr7r"
      },
      "outputs": [],
      "source": [
        "# Compile the model\n",
        "model.compile(\n",
        "  'adam',                             # Optimizer: Adam for gradient descent-based: https://keras.io/api/optimizers/\n",
        "  loss='categorical_crossentropy',    # Loss function: Categorical for 10 classes: https://keras.io/api/losses/\n",
        "  metrics=['accuracy'],               # accuracy metric, can choose from keras metrics: https://keras.io/api/metrics/\n",
        ")"
      ]
    },
    {
      "cell_type": "code",
      "execution_count": null,
      "metadata": {
        "id": "fDiHnTAHtuQX"
      },
      "outputs": [],
      "source": [
        "# Train the mdoel\n",
        "# https://keras.io/api/callbacks/\n",
        "\n",
        "epochs = 30\n",
        "\n",
        "# Saving the model during training to be used later\n",
        "checkpoint = ModelCheckpoint(\"mnist_best_model.hdf5\",  # saving the best model\n",
        "                            monitor='val_loss', verbose=1,\n",
        "                            save_weights_only = False, # if True, then only the model's weights will be saved (model.save_weights(filepath)), else the full model is saved (model.save(filepath)). \n",
        "                            save_best_only=True,       # only saves when the model is considered the \"best\" and the latest best model according to the quantity monitored will not be overwritten.\n",
        "                            mode='auto',               # the decision to overwrite the current save file is made based on either the maximization or the minimization of the monitored quantity. For val_acc, this should be max, for val_loss this should be min,\n",
        "                            save_freq = 'epoch')       # When using 'epoch', the callback saves the model after each epoch. When using integer, the callback saves the model at end of this many batches.\n"
      ]
    },
    {
      "cell_type": "code",
      "execution_count": null,
      "metadata": {
        "id": "j8tST5Q0t3zo"
      },
      "outputs": [],
      "source": [
        "# Fitting the model\n",
        "history = model.fit(\n",
        "  train_images,\n",
        "  train_labels, \n",
        "  epochs=epochs,                # number of training epochs\n",
        "  batch_size=batch_size,\n",
        "  verbose = 1,\n",
        "  validation_data=(test_images, test_labels), # validation data\n",
        "  callbacks=[checkpoint]      # callback to save the model during trainings \n",
        ")"
      ]
    },
    {
      "cell_type": "code",
      "execution_count": null,
      "metadata": {
        "id": "TzUGZfB3t6nF"
      },
      "outputs": [],
      "source": [
        "# availale keys in history\n",
        "print(history.history.keys())"
      ]
    },
    {
      "cell_type": "markdown",
      "metadata": {
        "id": "h5KeRo-Oxps6"
      },
      "source": []
    },
    {
      "cell_type": "code",
      "execution_count": null,
      "metadata": {
        "id": "v10UWhp3xqIh"
      },
      "outputs": [],
      "source": [
        "# plot training history\n",
        "plt.figure(figsize=(8,8))\n",
        "\n",
        "# History for accuracy\n",
        "plt.subplot(211)\n",
        "plt.plot(history.history['accuracy'])\n",
        "plt.plot(history.history['val_accuracy'])\n",
        "plt.title('model accuracy')\n",
        "plt.ylabel('accuracy')\n",
        "plt.xlabel('epoch')\n",
        "plt.legend(['train', 'test'], loc='upper right')\n",
        "\n",
        "# History for loss\n",
        "plt.subplot(212)\n",
        "plt.plot(history.history['loss'])\n",
        "plt.plot(history.history['val_loss'])\n",
        "plt.title('model loss')\n",
        "plt.ylabel('loss')\n",
        "plt.xlabel('epoch')\n",
        "plt.legend(['train', 'test'], loc='upper left')\n",
        "plt.show()"
      ]
    },
    {
      "cell_type": "code",
      "source": [
        "max(history.history['val_accuracy'])"
      ],
      "metadata": {
        "id": "G5ak5jCxxN_F"
      },
      "execution_count": null,
      "outputs": []
    },
    {
      "cell_type": "code",
      "execution_count": null,
      "metadata": {
        "id": "myHvRcO7xsQX"
      },
      "outputs": [],
      "source": [
        "# Define confusion matrix\n",
        "def calc_error(predictions, labels):\n",
        "    \"\"\"Return the error rate and confusions.\"\"\"\n",
        "    correct = np.sum(predictions == labels)\n",
        "    total = predictions.shape[0]\n",
        "\n",
        "    error = 100.0 - (100 * float(correct) / float(total))\n",
        "\n",
        "    confusions = np.zeros([10, 10], np.float32)\n",
        "    bundled = zip(predictions, labels)\n",
        "    for predicted, actual in bundled:\n",
        "        confusions[predicted, actual] += 1\n",
        "    \n",
        "    return error, confusions"
      ]
    },
    {
      "cell_type": "code",
      "execution_count": null,
      "metadata": {
        "id": "DuAk6EQ-xt7h"
      },
      "outputs": [],
      "source": [
        "# Model predictions and confusion matrix\n",
        "test_predictions          = np.argmax(model.predict(test_images),1)\n",
        "test_error, test_conf_mat = calc_error(test_predictions, np.argmax(test_labels,1))\n",
        "print('Test error: %.1f%%' % test_error)\n",
        "\n",
        "plt.figure(figsize=(6, 6))\n",
        "plt.xlabel('Actual')\n",
        "plt.ylabel('Predicted')\n",
        "plt.grid(False)\n",
        "plt.xticks(np.arange(num_classes))\n",
        "plt.yticks(np.arange(num_classes))\n",
        "plt.imshow(test_conf_mat, cmap=plt.cm.jet, interpolation='nearest');\n",
        "\n",
        "for i, cas in enumerate(test_conf_mat):\n",
        "    for j, count in enumerate(cas):\n",
        "        if count > 0:\n",
        "            xoff = .07 * len(str(count))\n",
        "            plt.text(j-xoff, i+.2, int(count), fontsize=9, color='white')"
      ]
    },
    {
      "cell_type": "code",
      "execution_count": null,
      "metadata": {
        "id": "BCLR_Z22BaXW"
      },
      "outputs": [],
      "source": []
    },
    {
      "cell_type": "markdown",
      "metadata": {
        "id": "RXkcqB3-BjmG"
      },
      "source": [
        "# hyperparameters\n",
        "\n"
      ]
    },
    {
      "cell_type": "markdown",
      "metadata": {
        "id": "vy9_kG1uceog"
      },
      "source": [
        "## model with padding"
      ]
    },
    {
      "cell_type": "code",
      "execution_count": null,
      "metadata": {
        "id": "rEKcIyHwkbwz"
      },
      "outputs": [],
      "source": [
        "num_filters = 8\n",
        "filter_size = 3\n",
        "pool_size   = 2\n",
        "num_classes = 10\n",
        "batch_size  = 64\n",
        "input_shape = (train_images.shape[1:]) # (28, 28, 1)\n",
        "strides     = 1\n",
        "padding     = 'valid' # valid: no padding, same: for zeros evenly right/left and up/down. \n",
        "                      # When padding=\"same\" and strides=1, the output has the same size as the input"
      ]
    },
    {
      "cell_type": "code",
      "execution_count": null,
      "metadata": {
        "id": "VH_LN-9ZCCfa"
      },
      "outputs": [],
      "source": [
        "\n",
        "#padding\n",
        "#model 2\n",
        "# Different syntax, different padding\n",
        "model_2 = Sequential([\n",
        "  Conv2D(filters = 4 * num_filters, kernel_size = filter_size,strides = strides, input_shape=(28, 28, 1), padding='same', activation='relu'), \n",
        "  MaxPooling2D(pool_size=pool_size), \n",
        "  Conv2D(8 * num_filters, kernel_size=(filter_size, filter_size),strides = strides, padding='same',activation='relu'),  \n",
        "  MaxPooling2D(pool_size=(pool_size, pool_size)), \n",
        "  Dropout(0.25),                        \n",
        "  Flatten(),\n",
        "  Dense(128,activation='relu'),\n",
        "  Dense(128,activation='relu'),\n",
        "  Dense(num_classes, activation='softmax'),\n",
        "])"
      ]
    },
    {
      "cell_type": "code",
      "execution_count": null,
      "metadata": {
        "id": "Y5wSNxWludhF"
      },
      "outputs": [],
      "source": [
        "model_2.summary()"
      ]
    },
    {
      "cell_type": "code",
      "execution_count": null,
      "metadata": {
        "id": "sGJJc9UEuiMV"
      },
      "outputs": [],
      "source": [
        "# Plot model \n",
        "keras.utils.plot_model(model_2, \"my_mnist_model.png\", show_shapes=True)"
      ]
    },
    {
      "cell_type": "code",
      "execution_count": null,
      "metadata": {
        "id": "lbS6UuWqw5Iq"
      },
      "outputs": [],
      "source": [
        "model_2.compile(\n",
        "  'adam',                             # Optimizer: Adam for gradient descent-based: https://keras.io/api/optimizers/\n",
        "  loss='categorical_crossentropy',    # Loss function: Categorical for 10 classes: https://keras.io/api/losses/\n",
        "  metrics=['accuracy'],               # accuracy metric, can choose from keras metrics: https://keras.io/api/metrics/\n",
        ")"
      ]
    },
    {
      "cell_type": "code",
      "execution_count": null,
      "metadata": {
        "id": "NBVbPUo6xAlX"
      },
      "outputs": [],
      "source": [
        "# Train the mdoel\n",
        "# https://keras.io/api/callbacks/\n",
        "\n",
        "epochs = 30\n",
        "\n",
        "# Saving the model during training to be used later\n",
        "checkpoint = ModelCheckpoint(\"mnist_best_model.hdf5\",  # saving the best model\n",
        "                            monitor='val_loss', verbose=1,\n",
        "                            save_weights_only = False, # if True, then only the model's weights will be saved (model.save_weights(filepath)), else the full model is saved (model.save(filepath)). \n",
        "                            save_best_only=True,       # only saves when the model is considered the \"best\" and the latest best model according to the quantity monitored will not be overwritten.\n",
        "                            mode='auto',               # the decision to overwrite the current save file is made based on either the maximization or the minimization of the monitored quantity. For val_acc, this should be max, for val_loss this should be min,\n",
        "                            save_freq = 'epoch')       # When using 'epoch', the callback saves the model after each epoch. When using integer, the callback saves the model at end of this many batches.\n"
      ]
    },
    {
      "cell_type": "code",
      "execution_count": null,
      "metadata": {
        "id": "HeI2fO2wxID2"
      },
      "outputs": [],
      "source": [
        "# Fitting the model\n",
        "history = model_2.fit(\n",
        "  train_images,\n",
        "  train_labels, \n",
        "  epochs=epochs,                # number of training epochs\n",
        "  batch_size=batch_size,\n",
        "  verbose = 1,\n",
        "  validation_data=(test_images, test_labels), # validation data\n",
        "  callbacks=[checkpoint]      # callback to save the model during trainings \n",
        ")"
      ]
    },
    {
      "cell_type": "code",
      "execution_count": null,
      "metadata": {
        "id": "1OIjqJpF4mDc"
      },
      "outputs": [],
      "source": [
        "# availale keys in history\n",
        "print(history.history.keys())\n",
        "\n"
      ]
    },
    {
      "cell_type": "code",
      "execution_count": null,
      "metadata": {
        "id": "NPqDGJ8V5iLj"
      },
      "outputs": [],
      "source": [
        "# plot training history\n",
        "plt.figure(figsize=(8,8))\n",
        "\n",
        "# History for accuracy\n",
        "plt.subplot(211)\n",
        "plt.plot(history.history['accuracy'])\n",
        "plt.plot(history.history['val_accuracy'])\n",
        "plt.title('model accuracy')\n",
        "plt.ylabel('accuracy')\n",
        "plt.xlabel('epoch')\n",
        "plt.legend(['train', 'test'], loc='upper right')\n",
        "\n",
        "# History for loss\n",
        "plt.subplot(212)\n",
        "plt.plot(history.history['loss'])\n",
        "plt.plot(history.history['val_loss'])\n",
        "plt.title('model loss')\n",
        "plt.ylabel('loss')\n",
        "plt.xlabel('epoch')\n",
        "plt.legend(['train', 'test'], loc='upper left')\n",
        "plt.show()"
      ]
    },
    {
      "cell_type": "markdown",
      "metadata": {
        "id": "99OUedU7cfiJ"
      },
      "source": [
        "## kernal size"
      ]
    },
    {
      "cell_type": "code",
      "execution_count": null,
      "metadata": {
        "id": "KKnymdy5Fh4e"
      },
      "outputs": [],
      "source": []
    },
    {
      "cell_type": "markdown",
      "metadata": {
        "id": "LZXcsbAcFe4p"
      },
      "source": []
    },
    {
      "cell_type": "markdown",
      "metadata": {
        "id": "Fmun8zbw8oej"
      },
      "source": [
        "### kernal size:2,3,4,5,6,7,8, with padding, it would not change much\n",
        "1:89.50\n",
        "3:92.66\n",
        "5:92.77\n",
        "7:92.04\n",
        "9:92.19"
      ]
    },
    {
      "cell_type": "code",
      "execution_count": null,
      "metadata": {
        "id": "QWz_3Ms883Rv"
      },
      "outputs": [],
      "source": []
    },
    {
      "cell_type": "code",
      "execution_count": null,
      "metadata": {
        "id": "TvYVuiP474Fp"
      },
      "outputs": [],
      "source": [
        "num_filters = 8\n",
        "filter_size = 5\n",
        "pool_size   = 2\n",
        "num_classes = 10\n",
        "batch_size  = 64\n",
        "input_shape = (train_images.shape[1:]) # (28, 28, 1)\n",
        "strides     = 1\n"
      ]
    },
    {
      "cell_type": "code",
      "execution_count": null,
      "metadata": {
        "id": "3MWkArYI7_T2"
      },
      "outputs": [],
      "source": [
        "\n",
        "#with padding\n",
        "#model 2\n",
        "# Different syntax, different padding\n",
        "model_2 = Sequential([\n",
        "  Conv2D(filters = 4 * num_filters, kernel_size = filter_size,strides = strides, input_shape=(28, 28, 1), padding='same', activation='relu'), \n",
        "  MaxPooling2D(pool_size=pool_size), \n",
        "  Conv2D(8 * num_filters, kernel_size=(filter_size, filter_size),strides = strides, padding='same',activation='relu'),  \n",
        "  MaxPooling2D(pool_size=(pool_size, pool_size)), \n",
        "  Dropout(0.55),                        \n",
        "  Flatten(),\n",
        "  Dense(128,activation='relu'),\n",
        "  Dense(128,activation='relu'),\n",
        "  Dense(num_classes, activation='softmax'),\n",
        "])"
      ]
    },
    {
      "cell_type": "code",
      "execution_count": null,
      "metadata": {
        "id": "nAlpVKe-8L2t"
      },
      "outputs": [],
      "source": [
        "model_2.compile(\n",
        "  'adam',                             # Optimizer: Adam for gradient descent-based: https://keras.io/api/optimizers/\n",
        "  loss='categorical_crossentropy',    # Loss function: Categorical for 10 classes: https://keras.io/api/losses/\n",
        "  metrics=['accuracy'],               # accuracy metric, can choose from keras metrics: https://keras.io/api/metrics/\n",
        ")"
      ]
    },
    {
      "cell_type": "code",
      "source": [
        "# Plot model \n",
        "keras.utils.plot_model(model_2, \"my_mnist_model.png\", show_shapes=True)"
      ],
      "metadata": {
        "id": "gYza1YPLG8uc"
      },
      "execution_count": null,
      "outputs": []
    },
    {
      "cell_type": "code",
      "execution_count": null,
      "metadata": {
        "id": "aPIyaavY8Uac"
      },
      "outputs": [],
      "source": [
        "# Train the mdoel\n",
        "# https://keras.io/api/callbacks/\n",
        "\n",
        "epochs = 30\n",
        "\n",
        "# Saving the model during training to be used later\n",
        "checkpoint = ModelCheckpoint(\"mnist_best_model.hdf5\",  # saving the best model\n",
        "                            monitor='val_loss', verbose=1,\n",
        "                            save_weights_only = False, # if True, then only the model's weights will be saved (model.save_weights(filepath)), else the full model is saved (model.save(filepath)). \n",
        "                            save_best_only=True,       # only saves when the model is considered the \"best\" and the latest best model according to the quantity monitored will not be overwritten.\n",
        "                            mode='auto',               # the decision to overwrite the current save file is made based on either the maximization or the minimization of the monitored quantity. For val_acc, this should be max, for val_loss this should be min,\n",
        "                            save_freq = 'epoch')"
      ]
    },
    {
      "cell_type": "code",
      "execution_count": null,
      "metadata": {
        "id": "TXTcer8d8YRW"
      },
      "outputs": [],
      "source": [
        "# Fitting the model\n",
        "history = model_2.fit(\n",
        "  train_images,\n",
        "  train_labels, \n",
        "  epochs=epochs,                # number of training epochs\n",
        "  batch_size=batch_size,\n",
        "  verbose = 1,\n",
        "  validation_data=(test_images, test_labels), # validation data\n",
        "  callbacks=[checkpoint]      # callback to save the model during trainings \n",
        ")"
      ]
    },
    {
      "cell_type": "code",
      "execution_count": null,
      "metadata": {
        "id": "qGYTzB0i9Pvy"
      },
      "outputs": [],
      "source": [
        "# availale keys in history\n",
        "print(history.history.keys())"
      ]
    },
    {
      "cell_type": "code",
      "execution_count": null,
      "metadata": {
        "id": "Iy5GWCjb9SGR"
      },
      "outputs": [],
      "source": [
        "# plot training history\n",
        "plt.figure(figsize=(8,8))\n",
        "\n",
        "# History for accuracy\n",
        "plt.subplot(211)\n",
        "plt.plot(history.history['accuracy'])\n",
        "plt.plot(history.history['val_accuracy'])\n",
        "plt.title('model accuracy')\n",
        "plt.ylabel('accuracy')\n",
        "plt.xlabel('epoch')\n",
        "plt.legend(['train', 'test'], loc='upper right')\n",
        "\n",
        "# History for loss\n",
        "plt.subplot(212)\n",
        "plt.plot(history.history['loss'])\n",
        "plt.plot(history.history['val_loss'])\n",
        "plt.title('model loss')\n",
        "plt.ylabel('loss')\n",
        "plt.xlabel('epoch')\n",
        "plt.legend(['train', 'test'], loc='upper left')\n",
        "plt.show()"
      ]
    },
    {
      "cell_type": "code",
      "execution_count": null,
      "metadata": {
        "id": "9OEzcjtRRn03"
      },
      "outputs": [],
      "source": [
        "max(history.history['val_accuracy'])"
      ]
    },
    {
      "cell_type": "code",
      "execution_count": null,
      "metadata": {
        "id": "13ozc9E2RyWm"
      },
      "outputs": [],
      "source": []
    },
    {
      "cell_type": "code",
      "execution_count": null,
      "metadata": {
        "id": "7kOEvkKl9EJE"
      },
      "outputs": [],
      "source": [
        "# Define confusion matrix\n",
        "def calc_error(predictions, labels):\n",
        "    \"\"\"Return the error rate and confusions.\"\"\"\n",
        "    correct = np.sum(predictions == labels)\n",
        "    total = predictions.shape[0]\n",
        "\n",
        "    error = 100.0 - (100 * float(correct) / float(total))\n",
        "\n",
        "    confusions = np.zeros([10, 10], np.float32)\n",
        "    bundled = zip(predictions, labels)\n",
        "    for predicted, actual in bundled:\n",
        "        confusions[predicted, actual] += 1\n",
        "    \n",
        "    return error, confusions"
      ]
    },
    {
      "cell_type": "code",
      "execution_count": null,
      "metadata": {
        "id": "WeO7TnPc9Ft2"
      },
      "outputs": [],
      "source": [
        "# Model predictions and confusion matrix\n",
        "test_predictions          = np.argmax(model_2.predict(test_images),1)\n",
        "test_error, test_conf_mat = calc_error(test_predictions, np.argmax(test_labels,1))\n",
        "test_acc = 100-test_error\n",
        "print('Test error: %.2f%%' % test_error)\n",
        "print('Test acc: %.2f%%' % test_acc)\n",
        "\n",
        "plt.figure(figsize=(6, 6))\n",
        "plt.xlabel('Actual')\n",
        "plt.ylabel('Predicted')\n",
        "plt.grid(False)\n",
        "plt.xticks(np.arange(num_classes))\n",
        "plt.yticks(np.arange(num_classes))\n",
        "plt.imshow(test_conf_mat, cmap=plt.cm.jet, interpolation='nearest');\n",
        "\n",
        "for i, cas in enumerate(test_conf_mat):\n",
        "    for j, count in enumerate(cas):\n",
        "        if count > 0:\n",
        "            xoff = .07 * len(str(count))\n",
        "            plt.text(j-xoff, i+.2, int(count), fontsize=9, color='white')"
      ]
    },
    {
      "cell_type": "markdown",
      "metadata": {
        "id": "CsA6LkFcFjRT"
      },
      "source": [
        "### kernal size without padding"
      ]
    },
    {
      "cell_type": "markdown",
      "metadata": {
        "id": "6AwRsuZoGvqY"
      },
      "source": [
        "1：0.8883\n",
        "3:91.33\n",
        "5：92.13\n",
        "7:90.89\n",
        "9：0.9059\n",
        "\n",
        "\n",
        "\n",
        "\n",
        "\n",
        "\n",
        "\n",
        "\n",
        "\n",
        "\n"
      ]
    },
    {
      "cell_type": "code",
      "execution_count": null,
      "metadata": {
        "id": "LXDYub4mFlwy"
      },
      "outputs": [],
      "source": [
        "num_filters = 8\n",
        "filter_size = 1\n",
        "pool_size   = 2\n",
        "num_classes = 10\n",
        "batch_size  = 64\n",
        "input_shape = (train_images.shape[1:]) # (28, 28, 1)\n",
        "strides     = 1"
      ]
    },
    {
      "cell_type": "code",
      "execution_count": null,
      "metadata": {
        "id": "PMnMA3q0FtI8"
      },
      "outputs": [],
      "source": [
        "#model 2\n",
        "# Different syntax, different padding\n",
        "model_2 = Sequential([\n",
        "  Conv2D(filters = 4 * num_filters, kernel_size = filter_size,strides = strides, input_shape=(28, 28, 1), padding='valid', activation='relu'), \n",
        "  MaxPooling2D(pool_size=pool_size), \n",
        "  Conv2D(8 * num_filters, kernel_size=(filter_size, filter_size),strides = strides, padding='valid',activation='relu'),  \n",
        "  MaxPooling2D(pool_size=(pool_size, pool_size)), \n",
        "  Dropout(0.25),                        \n",
        "  Flatten(),\n",
        "  Dense(128,activation='relu'),\n",
        "  Dense(128,activation='relu'),\n",
        "  Dense(num_classes, activation='softmax'),\n",
        "])"
      ]
    },
    {
      "cell_type": "code",
      "execution_count": null,
      "metadata": {
        "id": "aRpcW-M9F3mG"
      },
      "outputs": [],
      "source": [
        "model_2.compile(\n",
        "  'adam',                             # Optimizer: Adam for gradient descent-based: https://keras.io/api/optimizers/\n",
        "  loss='categorical_crossentropy',    # Loss function: Categorical for 10 classes: https://keras.io/api/losses/\n",
        "  metrics=['accuracy'],               # accuracy metric, can choose from keras metrics: https://keras.io/api/metrics/\n",
        ")"
      ]
    },
    {
      "cell_type": "code",
      "execution_count": null,
      "metadata": {
        "id": "tg294K7CF8YT"
      },
      "outputs": [],
      "source": [
        "# Train the mdoel\n",
        "# https://keras.io/api/callbacks/\n",
        "\n",
        "epochs = 30\n",
        "\n",
        "# Saving the model during training to be used later\n",
        "checkpoint = ModelCheckpoint(\"mnist_best_model.hdf5\",  # saving the best model\n",
        "                            monitor='val_loss', verbose=1,\n",
        "                            save_weights_only = False, # if True, then only the model's weights will be saved (model.save_weights(filepath)), else the full model is saved (model.save(filepath)). \n",
        "                            save_best_only=True,       # only saves when the model is considered the \"best\" and the latest best model according to the quantity monitored will not be overwritten.\n",
        "                            mode='auto',               # the decision to overwrite the current save file is made based on either the maximization or the minimization of the monitored quantity. For val_acc, this should be max, for val_loss this should be min,\n",
        "                            save_freq = 'epoch')"
      ]
    },
    {
      "cell_type": "code",
      "execution_count": null,
      "metadata": {
        "id": "Mm7hWmilGANm"
      },
      "outputs": [],
      "source": [
        "# Fitting the model\n",
        "history = model_2.fit(\n",
        "  train_images,\n",
        "  train_labels, \n",
        "  epochs=epochs,                # number of training epochs\n",
        "  batch_size=batch_size,\n",
        "  verbose = 1,\n",
        "  validation_data=(test_images, test_labels), # validation data\n",
        "  callbacks=[checkpoint]      # callback to save the model during trainings \n",
        ")"
      ]
    },
    {
      "cell_type": "code",
      "execution_count": null,
      "metadata": {
        "id": "LO2ip0p-GxxX"
      },
      "outputs": [],
      "source": [
        "# availale keys in history\n",
        "print(history.history.keys())"
      ]
    },
    {
      "cell_type": "code",
      "execution_count": null,
      "metadata": {
        "id": "m8w_AqvXG3xL"
      },
      "outputs": [],
      "source": [
        "# plot training history\n",
        "plt.figure(figsize=(8,8))\n",
        "\n",
        "# History for accuracy\n",
        "plt.subplot(211)\n",
        "plt.plot(history.history['accuracy'])\n",
        "plt.plot(history.history['val_accuracy'])\n",
        "plt.title('model accuracy')\n",
        "plt.ylabel('accuracy')\n",
        "plt.xlabel('epoch')\n",
        "plt.legend(['train', 'test'], loc='upper right')\n",
        "\n",
        "# History for loss\n",
        "plt.subplot(212)\n",
        "plt.plot(history.history['loss'])\n",
        "plt.plot(history.history['val_loss'])\n",
        "plt.title('model loss')\n",
        "plt.ylabel('loss')\n",
        "plt.xlabel('epoch')\n",
        "plt.legend(['train', 'test'], loc='upper left')\n",
        "plt.show()"
      ]
    },
    {
      "cell_type": "code",
      "execution_count": null,
      "metadata": {
        "id": "PDa-i6CFG7Cd"
      },
      "outputs": [],
      "source": [
        "# Define confusion matrix\n",
        "def calc_error(predictions, labels):\n",
        "    \"\"\"Return the error rate and confusions.\"\"\"\n",
        "    correct = np.sum(predictions == labels)\n",
        "    total = predictions.shape[0]\n",
        "\n",
        "    error = 100.0 - (100 * float(correct) / float(total))\n",
        "\n",
        "    confusions = np.zeros([10, 10], np.float32)\n",
        "    bundled = zip(predictions, labels)\n",
        "    for predicted, actual in bundled:\n",
        "        confusions[predicted, actual] += 1\n",
        "    \n",
        "    return error, confusions"
      ]
    },
    {
      "cell_type": "code",
      "execution_count": null,
      "metadata": {
        "id": "wZzMrtL2G91p"
      },
      "outputs": [],
      "source": [
        "# Model predictions and confusion matrix\n",
        "test_predictions          = np.argmax(model_2.predict(test_images),1)\n",
        "test_error, test_conf_mat = calc_error(test_predictions, np.argmax(test_labels,1))\n",
        "print('Test error: %.1f%%' % test_error)\n",
        "\n",
        "plt.figure(figsize=(6, 6))\n",
        "plt.xlabel('Actual')\n",
        "plt.ylabel('Predicted')\n",
        "plt.grid(False)\n",
        "plt.xticks(np.arange(num_classes))\n",
        "plt.yticks(np.arange(num_classes))\n",
        "plt.imshow(test_conf_mat, cmap=plt.cm.jet, interpolation='nearest');\n",
        "\n",
        "for i, cas in enumerate(test_conf_mat):\n",
        "    for j, count in enumerate(cas):\n",
        "        if count > 0:\n",
        "            xoff = .07 * len(str(count))\n",
        "            plt.text(j-xoff, i+.2, int(count), fontsize=9, color='white')"
      ]
    },
    {
      "cell_type": "markdown",
      "metadata": {
        "id": "O2AIqnTELO8S"
      },
      "source": [
        "# stride"
      ]
    },
    {
      "cell_type": "markdown",
      "metadata": {
        "id": "iG8E04IQz2nX"
      },
      "source": [
        "stride:\n",
        "\n",
        "\n",
        "1.   1:0.9259\n",
        "2.   2:0.9144\n",
        "3.   3:0.9025\n",
        "\n"
      ]
    },
    {
      "cell_type": "code",
      "execution_count": null,
      "metadata": {
        "id": "7J-tp8hPykS4"
      },
      "outputs": [],
      "source": [
        "num_filters = 8\n",
        "filter_size = 5\n",
        "pool_size   = 2\n",
        "num_classes = 10\n",
        "batch_size  = 64\n",
        "input_shape = (train_images.shape[1:]) # (28, 28, 1)\n",
        "strides     = 3\n",
        "padding     = 'valid' # valid: no padding, same: for zeros evenly right/left and up/down. \n",
        "                      # When padding=\"same\" and strides=1, the output has the same size as the input"
      ]
    },
    {
      "cell_type": "code",
      "execution_count": null,
      "metadata": {
        "id": "LMX-kHOMyq1L"
      },
      "outputs": [],
      "source": [
        "#padding\n",
        "#model 2\n",
        "# Different syntax, different padding\n",
        "model_2 = Sequential([\n",
        "  Conv2D(filters = 4 * num_filters, kernel_size = filter_size,strides = strides, input_shape=(28, 28, 1), padding='same', activation='relu'), \n",
        "  MaxPooling2D(pool_size=pool_size), \n",
        "  Conv2D(8 * num_filters, kernel_size=(filter_size, filter_size),strides = strides, padding='same',activation='relu'),  \n",
        "  MaxPooling2D(pool_size=(pool_size, pool_size)), \n",
        "  Dropout(0.25),                        \n",
        "  Flatten(),\n",
        "  Dense(128,activation='relu'),\n",
        "  Dense(128,activation='relu'),\n",
        "  Dense(num_classes, activation='softmax'),\n",
        "])"
      ]
    },
    {
      "cell_type": "code",
      "execution_count": null,
      "metadata": {
        "id": "7ypYAh1PyxDW"
      },
      "outputs": [],
      "source": [
        "model_2.summary()"
      ]
    },
    {
      "cell_type": "code",
      "execution_count": null,
      "metadata": {
        "id": "pmtiinpGzAUA"
      },
      "outputs": [],
      "source": [
        "model_2.compile(\n",
        "  'adam',                             # Optimizer: Adam for gradient descent-based: https://keras.io/api/optimizers/\n",
        "  loss='categorical_crossentropy',    # Loss function: Categorical for 10 classes: https://keras.io/api/losses/\n",
        "  metrics=['accuracy'],               # accuracy metric, can choose from keras metrics: https://keras.io/api/metrics/\n",
        ")"
      ]
    },
    {
      "cell_type": "code",
      "execution_count": null,
      "metadata": {
        "id": "2jk-cdeTzFB2"
      },
      "outputs": [],
      "source": [
        "epochs = 30\n",
        "\n",
        "# Saving the model during training to be used later\n",
        "checkpoint = ModelCheckpoint(\"mnist_best_model.hdf5\",  # saving the best model\n",
        "                            monitor='val_loss', verbose=1,\n",
        "                            save_weights_only = False, # if True, then only the model's weights will be saved (model.save_weights(filepath)), else the full model is saved (model.save(filepath)). \n",
        "                            save_best_only=True,       # only saves when the model is considered the \"best\" and the latest best model according to the quantity monitored will not be overwritten.\n",
        "                            mode='auto',               # the decision to overwrite the current save file is made based on either the maximization or the minimization of the monitored quantity. For val_acc, this should be max, for val_loss this should be min,\n",
        "                            save_freq = 'epoch')       # When using 'epoch', the callback saves the model after each epoch. When using integer, the callback saves the model at end of this many batches.\n"
      ]
    },
    {
      "cell_type": "code",
      "execution_count": null,
      "metadata": {
        "id": "FucgdtIyzKMU"
      },
      "outputs": [],
      "source": [
        "# Fitting the model\n",
        "history = model_2.fit(\n",
        "  train_images,\n",
        "  train_labels, \n",
        "  epochs=epochs,                # number of training epochs\n",
        "  batch_size=batch_size,\n",
        "  verbose = 1,\n",
        "  validation_data=(test_images, test_labels), # validation data\n",
        "  callbacks=[checkpoint]      # callback to save the model during trainings \n",
        ")"
      ]
    },
    {
      "cell_type": "code",
      "execution_count": null,
      "metadata": {
        "id": "rcfY9qRFzOQJ"
      },
      "outputs": [],
      "source": [
        "# availale keys in history\n",
        "print(history.history.keys())\n"
      ]
    },
    {
      "cell_type": "code",
      "execution_count": null,
      "metadata": {
        "id": "DOk1lwvuzTos"
      },
      "outputs": [],
      "source": [
        "# plot training history\n",
        "plt.figure(figsize=(8,8))\n",
        "\n",
        "# History for accuracy\n",
        "plt.subplot(211)\n",
        "plt.plot(history.history['accuracy'])\n",
        "plt.plot(history.history['val_accuracy'])\n",
        "plt.title('model accuracy')\n",
        "plt.ylabel('accuracy')\n",
        "plt.xlabel('epoch')\n",
        "plt.legend(['train', 'test'], loc='upper right')\n",
        "\n",
        "# History for loss\n",
        "plt.subplot(212)\n",
        "plt.plot(history.history['loss'])\n",
        "plt.plot(history.history['val_loss'])\n",
        "plt.title('model loss')\n",
        "plt.ylabel('loss')\n",
        "plt.xlabel('epoch')\n",
        "plt.legend(['train', 'test'], loc='upper left')\n",
        "plt.show()"
      ]
    },
    {
      "cell_type": "code",
      "execution_count": null,
      "metadata": {
        "id": "g6qU0lCtzaT0"
      },
      "outputs": [],
      "source": [
        "max(history.history['val_accuracy'])"
      ]
    },
    {
      "cell_type": "markdown",
      "metadata": {
        "id": "l5UQTbP7B8Uc"
      },
      "source": [
        "# training size"
      ]
    },
    {
      "cell_type": "code",
      "execution_count": null,
      "metadata": {
        "id": "_vF06bDxaVqh"
      },
      "outputs": [],
      "source": []
    },
    {
      "cell_type": "markdown",
      "metadata": {
        "id": "D8rzHAEyf3_T"
      },
      "source": [
        "0:0.10\n",
        "1:0.3754\n",
        "2:0.6893\n",
        "3:0.8283\n",
        "4:0.8968"
      ]
    },
    {
      "cell_type": "markdown",
      "metadata": {
        "id": "78KZmCCgeWxj"
      },
      "source": [
        "different training set"
      ]
    },
    {
      "cell_type": "code",
      "execution_count": null,
      "metadata": {
        "id": "cHoJ-IGHxXQ_"
      },
      "outputs": [],
      "source": [
        "from sklearn import model_selection\n",
        "#test size = val size\n",
        "train_x1,valid_x,train_y1,valid_y = model_selection.train_test_split(train_images, train_labels, train_size=1,random_state=1, shuffle=True)\n",
        "train_x2,valid_x,train_y2,valid_y = model_selection.train_test_split(train_images, train_labels, train_size=10,random_state=1, shuffle=True)\n",
        "train_x3,valid_x,train_y3,valid_y = model_selection.train_test_split(train_images, train_labels, train_size=100,random_state=1, shuffle=True)\n",
        "train_x4,valid_x,train_y4,valid_y = model_selection.train_test_split(train_images, train_labels, train_size=1000,random_state=1, shuffle=True)\n",
        "train_x5,valid_x,train_y5,valid_y = model_selection.train_test_split(train_images, train_labels, train_size=10000,random_state=1, shuffle=True)"
      ]
    },
    {
      "cell_type": "code",
      "execution_count": null,
      "metadata": {
        "id": "bFxeumGkc_e_"
      },
      "outputs": [],
      "source": [
        "train_y1"
      ]
    },
    {
      "cell_type": "code",
      "execution_count": null,
      "metadata": {
        "id": "g_QR265_eTKx"
      },
      "outputs": [],
      "source": [
        "num_filters = 8\n",
        "filter_size = 5\n",
        "pool_size   = 2\n",
        "num_classes = 10\n",
        "batch_size  = 64\n",
        "input_shape = (train_x5.shape[1:]) # (28, 28, 1)\n",
        "strides     = 1\n",
        "input_shape"
      ]
    },
    {
      "cell_type": "code",
      "execution_count": null,
      "metadata": {
        "id": "2QGIhTK-fImX"
      },
      "outputs": [],
      "source": [
        "#with padding\n",
        "#model 2\n",
        "# Different syntax, different padding\n",
        "model_2 = Sequential([\n",
        "  Conv2D(filters = 4 * num_filters, kernel_size = filter_size,strides = strides, input_shape=(28, 28, 1), padding='same', activation='relu'), \n",
        "  MaxPooling2D(pool_size=pool_size), \n",
        "  Conv2D(8 * num_filters, kernel_size=(filter_size, filter_size),strides = strides, padding='same',activation='relu'),  \n",
        "  MaxPooling2D(pool_size=(pool_size, pool_size)), \n",
        "  Dropout(0.25),                        \n",
        "  Flatten(),\n",
        "  Dense(128,activation='relu'),\n",
        "  Dense(128,activation='relu'),\n",
        "  Dense(num_classes, activation='softmax'),\n",
        "])"
      ]
    },
    {
      "cell_type": "code",
      "execution_count": null,
      "metadata": {
        "id": "On0B9-BofKvA"
      },
      "outputs": [],
      "source": [
        "model_2.compile(\n",
        "  'adam',                             # Optimizer: Adam for gradient descent-based: https://keras.io/api/optimizers/\n",
        "  loss='categorical_crossentropy',    # Loss function: Categorical for 10 classes: https://keras.io/api/losses/\n",
        "  metrics=['accuracy'],               # accuracy metric, can choose from keras metrics: https://keras.io/api/metrics/\n",
        ")"
      ]
    },
    {
      "cell_type": "code",
      "execution_count": null,
      "metadata": {
        "id": "5vZVkUIUfWwt"
      },
      "outputs": [],
      "source": [
        "# Train the mdoel\n",
        "# https://keras.io/api/callbacks/\n",
        "\n",
        "epochs = 30\n",
        "\n",
        "# Saving the model during training to be used later\n",
        "checkpoint = ModelCheckpoint(\"mnist_best_model.hdf5\",  # saving the best model\n",
        "                            monitor='val_loss', verbose=1,\n",
        "                            save_weights_only = False, # if True, then only the model's weights will be saved (model.save_weights(filepath)), else the full model is saved (model.save(filepath)). \n",
        "                            save_best_only=True,       # only saves when the model is considered the \"best\" and the latest best model according to the quantity monitored will not be overwritten.\n",
        "                            mode='auto',               # the decision to overwrite the current save file is made based on either the maximization or the minimization of the monitored quantity. For val_acc, this should be max, for val_loss this should be min,\n",
        "                            save_freq = 'epoch')"
      ]
    },
    {
      "cell_type": "code",
      "execution_count": null,
      "metadata": {
        "id": "wNhxHESxfaHB"
      },
      "outputs": [],
      "source": [
        "history = model_2.fit(\n",
        "  train_x5,\n",
        "  train_y5, \n",
        "  epochs=epochs,                # number of training epochs\n",
        "  batch_size=batch_size,\n",
        "  verbose = 1,\n",
        "  validation_data=(test_images, test_labels), # validation data\n",
        "  callbacks=[checkpoint]      # callback to save the model during trainings \n",
        ")"
      ]
    },
    {
      "cell_type": "code",
      "execution_count": null,
      "metadata": {
        "id": "X0rToU4lfsqf"
      },
      "outputs": [],
      "source": [
        "# plot training history\n",
        "plt.figure(figsize=(8,8))\n",
        "\n",
        "# History for accuracy\n",
        "plt.subplot(211)\n",
        "plt.plot(history.history['accuracy'])\n",
        "plt.plot(history.history['val_accuracy'])\n",
        "plt.title('model accuracy')\n",
        "plt.ylabel('accuracy')\n",
        "plt.xlabel('epoch')\n",
        "plt.legend(['train', 'test'], loc='upper right')\n",
        "\n",
        "# History for loss\n",
        "plt.subplot(212)\n",
        "plt.plot(history.history['loss'])\n",
        "plt.plot(history.history['val_loss'])\n",
        "plt.title('model loss')\n",
        "plt.ylabel('loss')\n",
        "plt.xlabel('epoch')\n",
        "plt.legend(['train', 'test'], loc='upper left')\n",
        "plt.show()"
      ]
    },
    {
      "cell_type": "code",
      "execution_count": null,
      "metadata": {
        "id": "1fUWY8jPfxB4"
      },
      "outputs": [],
      "source": [
        "max(history.history['val_accuracy'])"
      ]
    },
    {
      "cell_type": "code",
      "execution_count": null,
      "metadata": {
        "id": "crd1Z_VAfsgR"
      },
      "outputs": [],
      "source": []
    },
    {
      "cell_type": "markdown",
      "metadata": {
        "id": "-j8Km9-f42x0"
      },
      "source": [
        "# drop out\n",
        "\n",
        "\n",
        "1.   0.0:92.18\n",
        "2.   0.1:92.31\n",
        "3.   0.2:92.31\n",
        "4.   0.3:92.58\n",
        "5.   0.4:92.57\n",
        "6.   0.5:92.70\n",
        "7.   0.6:92.74\n",
        "8.   0.7:92.69\n",
        "9.   0.8:92.5\n",
        "10.  0.9:91.11\n",
        "11. 0.99:0.7971\n",
        "\n",
        "\n",
        "\n",
        "\n"
      ]
    },
    {
      "cell_type": "code",
      "source": [
        "num_filters = 8\n",
        "filter_size = 5\n",
        "pool_size   = 2\n",
        "num_classes = 10\n",
        "batch_size  = 64\n",
        "input_shape = (train_images.shape[1:]) # (28, 28, 1)\n",
        "strides     = 1"
      ],
      "metadata": {
        "id": "6oIiCwKkaXsX"
      },
      "execution_count": null,
      "outputs": []
    },
    {
      "cell_type": "code",
      "source": [
        "#with padding\n",
        "#model 2\n",
        "# Different syntax, different padding\n",
        "model_2 = Sequential([\n",
        "  Conv2D(filters = 4 * num_filters, kernel_size = filter_size,strides = strides, input_shape=(28, 28, 1), padding='same', activation='relu'), \n",
        "  MaxPooling2D(pool_size=pool_size), \n",
        "  Conv2D(8 * num_filters, kernel_size=(filter_size, filter_size),strides = strides, padding='same',activation='relu'),  \n",
        "  MaxPooling2D(pool_size=(pool_size, pool_size)), \n",
        "  Dropout(0.99),                        \n",
        "  Flatten(),\n",
        "  Dense(128,activation='relu'),\n",
        "  Dense(128,activation='relu'),\n",
        "  Dense(num_classes, activation='softmax'),\n",
        "])"
      ],
      "metadata": {
        "id": "kHhOKl8IajHQ"
      },
      "execution_count": null,
      "outputs": []
    },
    {
      "cell_type": "code",
      "source": [
        "model_2.compile(\n",
        "  'adam',                             # Optimizer: Adam for gradient descent-based: https://keras.io/api/optimizers/\n",
        "  loss='categorical_crossentropy',    # Loss function: Categorical for 10 classes: https://keras.io/api/losses/\n",
        "  metrics=['accuracy'],               # accuracy metric, can choose from keras metrics: https://keras.io/api/metrics/\n",
        ")"
      ],
      "metadata": {
        "id": "SbtKaFRBanEo"
      },
      "execution_count": null,
      "outputs": []
    },
    {
      "cell_type": "code",
      "source": [
        "# Train the mdoel\n",
        "# https://keras.io/api/callbacks/\n",
        "\n",
        "epochs = 30\n",
        "\n",
        "# Saving the model during training to be used later\n",
        "checkpoint = ModelCheckpoint(\"mnist_best_model.hdf5\",  # saving the best model\n",
        "                            monitor='val_loss', verbose=1,\n",
        "                            save_weights_only = False, # if True, then only the model's weights will be saved (model.save_weights(filepath)), else the full model is saved (model.save(filepath)). \n",
        "                            save_best_only=True,       # only saves when the model is considered the \"best\" and the latest best model according to the quantity monitored will not be overwritten.\n",
        "                            mode='auto',               # the decision to overwrite the current save file is made based on either the maximization or the minimization of the monitored quantity. For val_acc, this should be max, for val_loss this should be min,\n",
        "                            save_freq = 'epoch')"
      ],
      "metadata": {
        "id": "fqPCMQ4baqDR"
      },
      "execution_count": null,
      "outputs": []
    },
    {
      "cell_type": "code",
      "source": [
        "# Fitting the model\n",
        "history = model_2.fit(\n",
        "  train_images,\n",
        "  train_labels, \n",
        "  epochs=epochs,                # number of training epochs\n",
        "  batch_size=batch_size,\n",
        "  verbose = 1,\n",
        "  validation_data=(test_images, test_labels), # validation data\n",
        "  callbacks=[checkpoint]      # callback to save the model during trainings \n",
        ")"
      ],
      "metadata": {
        "colab": {
          "base_uri": "https://localhost:8080/"
        },
        "id": "_LXIdH7Ua3WT",
        "outputId": "b6b66942-8d4b-4aac-b63d-0d7827243d5c"
      },
      "execution_count": null,
      "outputs": [
        {
          "output_type": "stream",
          "name": "stdout",
          "text": [
            "Epoch 1/30\n",
            "938/938 [==============================] - ETA: 0s - loss: 1.5199 - accuracy: 0.3963\n",
            "Epoch 1: val_loss improved from inf to 0.90718, saving model to mnist_best_model.hdf5\n",
            "938/938 [==============================] - 6s 5ms/step - loss: 1.5199 - accuracy: 0.3963 - val_loss: 0.9072 - val_accuracy: 0.6585\n",
            "Epoch 2/30\n",
            "930/938 [============================>.] - ETA: 0s - loss: 1.1499 - accuracy: 0.5416\n",
            "Epoch 2: val_loss improved from 0.90718 to 0.76747, saving model to mnist_best_model.hdf5\n",
            "938/938 [==============================] - 4s 5ms/step - loss: 1.1486 - accuracy: 0.5421 - val_loss: 0.7675 - val_accuracy: 0.7441\n",
            "Epoch 3/30\n",
            "929/938 [============================>.] - ETA: 0s - loss: 1.0582 - accuracy: 0.5829\n",
            "Epoch 3: val_loss improved from 0.76747 to 0.72568, saving model to mnist_best_model.hdf5\n",
            "938/938 [==============================] - 5s 5ms/step - loss: 1.0580 - accuracy: 0.5830 - val_loss: 0.7257 - val_accuracy: 0.7515\n",
            "Epoch 4/30\n",
            "933/938 [============================>.] - ETA: 0s - loss: 1.0067 - accuracy: 0.6044\n",
            "Epoch 4: val_loss did not improve from 0.72568\n",
            "938/938 [==============================] - 4s 5ms/step - loss: 1.0070 - accuracy: 0.6045 - val_loss: 0.7408 - val_accuracy: 0.7356\n",
            "Epoch 5/30\n",
            "933/938 [============================>.] - ETA: 0s - loss: 0.9736 - accuracy: 0.6190\n",
            "Epoch 5: val_loss improved from 0.72568 to 0.67629, saving model to mnist_best_model.hdf5\n",
            "938/938 [==============================] - 5s 5ms/step - loss: 0.9738 - accuracy: 0.6190 - val_loss: 0.6763 - val_accuracy: 0.7566\n",
            "Epoch 6/30\n",
            "931/938 [============================>.] - ETA: 0s - loss: 0.9501 - accuracy: 0.6317\n",
            "Epoch 6: val_loss improved from 0.67629 to 0.64330, saving model to mnist_best_model.hdf5\n",
            "938/938 [==============================] - 4s 5ms/step - loss: 0.9503 - accuracy: 0.6318 - val_loss: 0.6433 - val_accuracy: 0.7742\n",
            "Epoch 7/30\n",
            "938/938 [==============================] - ETA: 0s - loss: 0.9279 - accuracy: 0.6420\n",
            "Epoch 7: val_loss did not improve from 0.64330\n",
            "938/938 [==============================] - 5s 5ms/step - loss: 0.9279 - accuracy: 0.6420 - val_loss: 0.6686 - val_accuracy: 0.7344\n",
            "Epoch 8/30\n",
            "927/938 [============================>.] - ETA: 0s - loss: 0.9101 - accuracy: 0.6486\n",
            "Epoch 8: val_loss did not improve from 0.64330\n",
            "938/938 [==============================] - 5s 6ms/step - loss: 0.9098 - accuracy: 0.6486 - val_loss: 0.6458 - val_accuracy: 0.7513\n",
            "Epoch 9/30\n",
            "934/938 [============================>.] - ETA: 0s - loss: 0.9011 - accuracy: 0.6523\n",
            "Epoch 9: val_loss improved from 0.64330 to 0.60853, saving model to mnist_best_model.hdf5\n",
            "938/938 [==============================] - 5s 5ms/step - loss: 0.9011 - accuracy: 0.6524 - val_loss: 0.6085 - val_accuracy: 0.7888\n",
            "Epoch 10/30\n",
            "931/938 [============================>.] - ETA: 0s - loss: 0.8829 - accuracy: 0.6588\n",
            "Epoch 10: val_loss did not improve from 0.60853\n",
            "938/938 [==============================] - 5s 5ms/step - loss: 0.8827 - accuracy: 0.6590 - val_loss: 0.6154 - val_accuracy: 0.7845\n",
            "Epoch 11/30\n",
            "930/938 [============================>.] - ETA: 0s - loss: 0.8695 - accuracy: 0.6663\n",
            "Epoch 11: val_loss did not improve from 0.60853\n",
            "938/938 [==============================] - 5s 5ms/step - loss: 0.8694 - accuracy: 0.6665 - val_loss: 0.6167 - val_accuracy: 0.7855\n",
            "Epoch 12/30\n",
            "930/938 [============================>.] - ETA: 0s - loss: 0.8578 - accuracy: 0.6713\n",
            "Epoch 12: val_loss improved from 0.60853 to 0.59229, saving model to mnist_best_model.hdf5\n",
            "938/938 [==============================] - 4s 5ms/step - loss: 0.8574 - accuracy: 0.6715 - val_loss: 0.5923 - val_accuracy: 0.7838\n",
            "Epoch 13/30\n",
            "932/938 [============================>.] - ETA: 0s - loss: 0.8522 - accuracy: 0.6703\n",
            "Epoch 13: val_loss did not improve from 0.59229\n",
            "938/938 [==============================] - 4s 5ms/step - loss: 0.8527 - accuracy: 0.6702 - val_loss: 0.6205 - val_accuracy: 0.7732\n",
            "Epoch 14/30\n",
            "935/938 [============================>.] - ETA: 0s - loss: 0.8432 - accuracy: 0.6768\n",
            "Epoch 14: val_loss did not improve from 0.59229\n",
            "938/938 [==============================] - 5s 5ms/step - loss: 0.8433 - accuracy: 0.6768 - val_loss: 0.6280 - val_accuracy: 0.7459\n",
            "Epoch 15/30\n",
            "933/938 [============================>.] - ETA: 0s - loss: 0.8292 - accuracy: 0.6835\n",
            "Epoch 15: val_loss improved from 0.59229 to 0.58000, saving model to mnist_best_model.hdf5\n",
            "938/938 [==============================] - 5s 5ms/step - loss: 0.8293 - accuracy: 0.6835 - val_loss: 0.5800 - val_accuracy: 0.7901\n",
            "Epoch 16/30\n",
            "938/938 [==============================] - ETA: 0s - loss: 0.8284 - accuracy: 0.6837\n",
            "Epoch 16: val_loss did not improve from 0.58000\n",
            "938/938 [==============================] - 5s 5ms/step - loss: 0.8284 - accuracy: 0.6837 - val_loss: 0.6223 - val_accuracy: 0.7803\n",
            "Epoch 17/30\n",
            "927/938 [============================>.] - ETA: 0s - loss: 0.8165 - accuracy: 0.6893\n",
            "Epoch 17: val_loss did not improve from 0.58000\n",
            "938/938 [==============================] - 5s 5ms/step - loss: 0.8169 - accuracy: 0.6892 - val_loss: 0.6046 - val_accuracy: 0.7885\n",
            "Epoch 18/30\n",
            "938/938 [==============================] - ETA: 0s - loss: 0.8187 - accuracy: 0.6869\n",
            "Epoch 18: val_loss did not improve from 0.58000\n",
            "938/938 [==============================] - 4s 5ms/step - loss: 0.8187 - accuracy: 0.6869 - val_loss: 0.5877 - val_accuracy: 0.7785\n",
            "Epoch 19/30\n",
            "930/938 [============================>.] - ETA: 0s - loss: 0.8099 - accuracy: 0.6919\n",
            "Epoch 19: val_loss did not improve from 0.58000\n",
            "938/938 [==============================] - 5s 5ms/step - loss: 0.8096 - accuracy: 0.6919 - val_loss: 0.6299 - val_accuracy: 0.7783\n",
            "Epoch 20/30\n",
            "932/938 [============================>.] - ETA: 0s - loss: 0.8064 - accuracy: 0.6930\n",
            "Epoch 20: val_loss did not improve from 0.58000\n",
            "938/938 [==============================] - 4s 5ms/step - loss: 0.8065 - accuracy: 0.6929 - val_loss: 0.5946 - val_accuracy: 0.7794\n",
            "Epoch 21/30\n",
            "930/938 [============================>.] - ETA: 0s - loss: 0.7968 - accuracy: 0.6976\n",
            "Epoch 21: val_loss improved from 0.58000 to 0.57791, saving model to mnist_best_model.hdf5\n",
            "938/938 [==============================] - 4s 5ms/step - loss: 0.7968 - accuracy: 0.6975 - val_loss: 0.5779 - val_accuracy: 0.7868\n",
            "Epoch 22/30\n",
            "936/938 [============================>.] - ETA: 0s - loss: 0.7953 - accuracy: 0.7000\n",
            "Epoch 22: val_loss did not improve from 0.57791\n",
            "938/938 [==============================] - 4s 5ms/step - loss: 0.7958 - accuracy: 0.6998 - val_loss: 0.5951 - val_accuracy: 0.7911\n",
            "Epoch 23/30\n",
            "935/938 [============================>.] - ETA: 0s - loss: 0.7933 - accuracy: 0.6972\n",
            "Epoch 23: val_loss improved from 0.57791 to 0.56837, saving model to mnist_best_model.hdf5\n",
            "938/938 [==============================] - 5s 5ms/step - loss: 0.7933 - accuracy: 0.6973 - val_loss: 0.5684 - val_accuracy: 0.7951\n",
            "Epoch 24/30\n",
            "926/938 [============================>.] - ETA: 0s - loss: 0.7893 - accuracy: 0.7022\n",
            "Epoch 24: val_loss did not improve from 0.56837\n",
            "938/938 [==============================] - 5s 5ms/step - loss: 0.7891 - accuracy: 0.7026 - val_loss: 0.5730 - val_accuracy: 0.7874\n",
            "Epoch 25/30\n",
            "929/938 [============================>.] - ETA: 0s - loss: 0.7812 - accuracy: 0.7043\n",
            "Epoch 25: val_loss did not improve from 0.56837\n",
            "938/938 [==============================] - 4s 5ms/step - loss: 0.7814 - accuracy: 0.7043 - val_loss: 0.6062 - val_accuracy: 0.7755\n",
            "Epoch 26/30\n",
            "933/938 [============================>.] - ETA: 0s - loss: 0.7855 - accuracy: 0.7035\n",
            "Epoch 26: val_loss did not improve from 0.56837\n",
            "938/938 [==============================] - 4s 5ms/step - loss: 0.7851 - accuracy: 0.7038 - val_loss: 0.5984 - val_accuracy: 0.7899\n",
            "Epoch 27/30\n",
            "927/938 [============================>.] - ETA: 0s - loss: 0.7761 - accuracy: 0.7073\n",
            "Epoch 27: val_loss did not improve from 0.56837\n",
            "938/938 [==============================] - 5s 5ms/step - loss: 0.7761 - accuracy: 0.7075 - val_loss: 0.5701 - val_accuracy: 0.7939\n",
            "Epoch 28/30\n",
            "935/938 [============================>.] - ETA: 0s - loss: 0.7702 - accuracy: 0.7072\n",
            "Epoch 28: val_loss improved from 0.56837 to 0.56587, saving model to mnist_best_model.hdf5\n",
            "938/938 [==============================] - 5s 5ms/step - loss: 0.7701 - accuracy: 0.7072 - val_loss: 0.5659 - val_accuracy: 0.7971\n",
            "Epoch 29/30\n",
            "931/938 [============================>.] - ETA: 0s - loss: 0.7684 - accuracy: 0.7104\n",
            "Epoch 29: val_loss did not improve from 0.56587\n",
            "938/938 [==============================] - 5s 5ms/step - loss: 0.7683 - accuracy: 0.7105 - val_loss: 0.5885 - val_accuracy: 0.7912\n",
            "Epoch 30/30\n",
            "931/938 [============================>.] - ETA: 0s - loss: 0.7649 - accuracy: 0.7135\n",
            "Epoch 30: val_loss did not improve from 0.56587\n",
            "938/938 [==============================] - 5s 5ms/step - loss: 0.7650 - accuracy: 0.7134 - val_loss: 0.5875 - val_accuracy: 0.7846\n"
          ]
        }
      ]
    },
    {
      "cell_type": "code",
      "source": [
        "# plot training history\n",
        "plt.figure(figsize=(8,8))\n",
        "\n",
        "# History for accuracy\n",
        "plt.subplot(211)\n",
        "plt.plot(history.history['accuracy'])\n",
        "plt.plot(history.history['val_accuracy'])\n",
        "plt.title('model accuracy')\n",
        "plt.ylabel('accuracy')\n",
        "plt.xlabel('epoch')\n",
        "plt.legend(['train', 'test'], loc='upper right')\n",
        "\n",
        "# History for loss\n",
        "plt.subplot(212)\n",
        "plt.plot(history.history['loss'])\n",
        "plt.plot(history.history['val_loss'])\n",
        "plt.title('model loss')\n",
        "plt.ylabel('loss')\n",
        "plt.xlabel('epoch')\n",
        "plt.legend(['train', 'test'], loc='upper left')\n",
        "plt.show()"
      ],
      "metadata": {
        "colab": {
          "base_uri": "https://localhost:8080/",
          "height": 513
        },
        "id": "xrYSOO92atst",
        "outputId": "447c80d6-dbeb-40b9-9852-360db2b90bc9"
      },
      "execution_count": null,
      "outputs": [
        {
          "output_type": "display_data",
          "data": {
            "text/plain": [
              "<Figure size 576x576 with 2 Axes>"
            ],
            "image/png": "[encoded data removed]"
          },
          "metadata": {
            "needs_background": "light"
          }
        }
      ]
    },
    {
      "cell_type": "code",
      "source": [
        "max(history.history['val_accuracy'])"
      ],
      "metadata": {
        "colab": {
          "base_uri": "https://localhost:8080/"
        },
        "id": "xBDygK5GaxDg",
        "outputId": "b5f97836-88de-4f38-aea6-f633a9ba9108"
      },
      "execution_count": null,
      "outputs": [
        {
          "output_type": "execute_result",
          "data": {
            "text/plain": [
              "0.7971000075340271"
            ]
          },
          "metadata": {},
          "execution_count": 92
        }
      ]
    },
    {
      "cell_type": "markdown",
      "source": [
        "# **MLP Implementation**"
      ],
      "metadata": {
        "id": "YH_2aCopfE7m"
      }
    },
    {
      "cell_type": "code",
      "source": [
        "class NeuralNetLayer:\n",
        "    def __init__(self):\n",
        "        self.gradient = None\n",
        "        self.parameters = None\n",
        "        \n",
        "    def forward(self, x):\n",
        "        raise NotImplementedError\n",
        "\n",
        "    def backward(self, gradient):\n",
        "        raise NotImplementedError\n",
        "\n",
        "    def check_grad(self,x,target):\n",
        "        raise NotImplementedError"
      ],
      "metadata": {
        "id": "Ut2osZqBfIuw"
      },
      "execution_count": null,
      "outputs": []
    },
    {
      "cell_type": "code",
      "source": [
        "class LinearLayer(NeuralNetLayer):\n",
        "    def __init__(self, input_size, output_size):\n",
        "        super().__init__()\n",
        "        self.ni = input_size\n",
        "        self.no = output_size\n",
        "        self.w=np.random.normal(0,0.1,(output_size,input_size))\n",
        "        self.b = np.random.randn(output_size)\n",
        "        self.cur_input = None\n",
        "        self.parameters = [self.w, self.b]\n",
        "\n",
        "    def forward(self, x):\n",
        "        self.cur_input = x\n",
        "        a=(self.w[None, :, :] @ x[:, :, None]).squeeze() + self.b\n",
        "        #print(a)\n",
        "        return a\n",
        "    def backward(self, gradient): #put 1 if starts from the toppest\n",
        "        assert self.cur_input is not None, \"Must call forward before backward\"\n",
        "        #dw = gradient.dot(self.cur_input)\n",
        "        dw = gradient[:, :, None] @ self.cur_input[:, None, :]\n",
        "        db = gradient\n",
        "        self.gradient = [dw, db]\n",
        "       # print(\"Linear Layer backpropagating\")\n",
        "        return gradient.dot(self.w)\n",
        "    \n",
        "    def check_grad(self,x,target):\n",
        "      diff=check_grad(self.forward(x), self.backward(target), [1.5, -1.5])\n",
        "      print(diff)\n",
        "      return diff"
      ],
      "metadata": {
        "id": "LYuvywsOfKtN"
      },
      "execution_count": null,
      "outputs": []
    },
    {
      "cell_type": "code",
      "source": [
        "class ReLULayer(NeuralNetLayer):\n",
        "    def __init__(self):\n",
        "        super().__init__()\n",
        "        \n",
        "    def forward(self, x):\n",
        "        #print(x)\n",
        "        self.gradient = np.where(x > 0, 1.0, 0.0)\n",
        "       # print(\"ReLU is executing\")\n",
        "        return np.maximum(0, x)\n",
        "\n",
        "    def backward(self, gradient):\n",
        "        assert self.gradient is not None, \"Must call forward before backward\"\n",
        "       # print(\"ReLU backpropagating\")\n",
        "        #print(gradient*self.gradient)\n",
        "        return gradient * self.gradient\n",
        "    \n",
        "    def check_grad(self,x,target):\n",
        "      diff=check_grad(self.forward(x), self.backward(target), [1.5, -1.5])\n",
        "      print(diff)\n",
        "      return diff"
      ],
      "metadata": {
        "id": "ekq6E7LYfNQE"
      },
      "execution_count": null,
      "outputs": []
    },
    {
      "cell_type": "code",
      "source": [
        "class SoftmaxOutputLayer(NeuralNetLayer):\n",
        "    def __init__(self):\n",
        "        super().__init__()\n",
        "        self.cur_probs = None\n",
        "\n",
        "    def forward(self, x):\n",
        "       # print(x)\n",
        "        x=np.subtract(x,x.max())\n",
        "        exps = np.exp(x)\n",
        "        probs = exps / np.sum(exps, axis=-1)[:, None]\n",
        "        self.cur_probs = probs\n",
        "       # print(\"Softmax executing\")\n",
        "        return probs\n",
        "\n",
        "    def backward(self, target):\n",
        "        assert self.cur_probs is not None, \"Must call forward before backward\"\n",
        "       # print(\"Softmax backpropagating\")\n",
        "        return self.cur_probs - target\n",
        "\n",
        "    def check_grad(self,x,target):\n",
        "      diff=check_grad(self.forward(x), self.backward(target), [1.5, -1.5])\n",
        "      print(diff)\n",
        "      return diff"
      ],
      "metadata": {
        "id": "AfNCHHoLfQNI"
      },
      "execution_count": null,
      "outputs": []
    },
    {
      "cell_type": "code",
      "source": [
        "from tensorflow.python.ops.math_ops import batch_mat_mul\n",
        "from scipy.optimize import check_grad\n",
        "\n",
        "#define activation function\n",
        "\n",
        "ReLU = lambda z : np.maximum(z, 0)\n",
        "tanh = lambda z : np.tanh(z)\n",
        "Leaky_ReLU = lambda z : np.maximum(z, 0) + 0.01*np.minimum(0,z)\n",
        "softmax = lambda z: np.exp(z) / np.sum(np.exp(z), axis=0)\n",
        "\n",
        "class MLP:\n",
        "   def __init__(self,sizes,activation_func,hidden_layers,units): #size[input,output]\n",
        "     self.num_layers=hidden_layers\n",
        "     self.sizes=sizes\n",
        "     #self.W = [np.random.randn(n,m)*np.sqrt(2/(m+n)) for m,n in zip(sizes[:-1], sizes[1:])] \n",
        "     #self.biases = [np.random.randn(n,1) for n in sizes[1:]]\n",
        "     self.activation_func = activation_func\n",
        "     #maybe add a list to store the layers\n",
        "     self.layers_list=[]\n",
        "     self.activation_layer=None\n",
        "     if self.activation_func == 'ReLU':\n",
        "         self.activation_layer=ReLULayer()\n",
        "     elif self.activation_func == 'tanh':\n",
        "         self.activation_layer = TanhLayer()\n",
        "     elif self.activation_func == 'Leaky-ReLU':\n",
        "         self.activation_layer=Leaky_ReLULayer()\n",
        "\n",
        "     if self.num_layers==0:\n",
        "           self.layers_list.append(LinearLayer(self.sizes[0],self.sizes[1]))\n",
        "           self.layers_list.append(SoftmaxOutputLayer())\n",
        "     elif self.num_layers==1:\n",
        "           self.layers_list.append(LinearLayer(self.sizes[0],units))\n",
        "           self.layers_list.append(self.activation_layer)\n",
        "           self.layers_list.append(LinearLayer(units,self.sizes[1]))\n",
        "           self.layers_list.append(SoftmaxOutputLayer())\n",
        "     elif self.num_layers==2:\n",
        "           self.layers_list.append(LinearLayer(self.sizes[0],units))\n",
        "           self.layers_list.append(self.activation_layer)\n",
        "           self.layers_list.append(LinearLayer(units,units))\n",
        "           self.layers_list.append(self.activation_layer)\n",
        "           self.layers_list.append(LinearLayer(units,self.sizes[1]))\n",
        "           self.layers_list.append(SoftmaxOutputLayer())\n",
        "     elif self.num_layers==3:\n",
        "           self.layers_list.append(LinearLayer(self.sizes[0],units))\n",
        "           self.layers_list.append(self.activation_layer)\n",
        "           self.layers_list.append(LinearLayer(units,units))\n",
        "           self.layers_list.append(self.activation_layer)\n",
        "           self.layers_list.append(LinearLayer(units,units))\n",
        "           self.layers_list.append(self.activation_layer)\n",
        "           self.layers_list.append(LinearLayer(units,self.sizes[1]))\n",
        "           self.layers_list.append(SoftmaxOutputLayer())\n",
        "     elif self.num_layers==4:\n",
        "           self.layers_list.append(LinearLayer(self.sizes[0],units))\n",
        "           self.layers_list.append(self.activation_layer)\n",
        "           self.layers_list.append(LinearLayer(units,units))\n",
        "           self.layers_list.append(self.activation_layer)\n",
        "           self.layers_list.append(LinearLayer(units,self.sizes[1]))\n",
        "           self.layers_list.append(self.activation_layer)\n",
        "           self.layers_list.append(LinearLayer(units,self.sizes[2]))\n",
        "           self.layers_list.append(self.activation_layer)\n",
        "           self.layers_list.append(LinearLayer(units,self.sizes[3]))\n",
        "           self.layers_list.append(SoftmaxOutputLayer())\n",
        "\n",
        "   def forward(self, x):\n",
        "        for layer in self.layers_list:\n",
        "            x = layer.forward(x)\n",
        "        return x\n",
        "\n",
        "   def backward(self, target):\n",
        "        for layer in self.layers_list[::-1]:\n",
        "            target = layer.backward(target)\n",
        "\n",
        "   def check_gradient(self,x,y):\n",
        "     grad=[]\n",
        "     #labels = np.eye(10)[np.array(y)]\n",
        "     indices = np.random.choice(60000, 100)\n",
        "     batch = x[indices]\n",
        "     batch_label=np.eye(10)[np.array(y[indices])]\n",
        "     for layer in self.layers_list:\n",
        "       grad.append(layer.check_grad(batch,batch_label))\n",
        " \n",
        "\n",
        "   def fit(self,optimizer, data_x, data_y,steps,x_test,y_test,batch_size=128):\n",
        "        #losses = np.zeros(steps)\n",
        "        losses=[]\n",
        "        np.random.seed(551)\n",
        "        training_accu=[]\n",
        "        testing_accu=[]\n",
        "\n",
        "        #print(valid_labels)\n",
        "        for _ in tqdm(range(steps)):\n",
        "\n",
        "          for i in range(data_x.shape[0] // batch_size):\n",
        "            k = i*batch_size\n",
        "            l = (i+1)*batch_size\n",
        "            batch_label=np.eye(10)[np.array(data_y[k:l])]\n",
        "            predictions = self.forward(data_x[k:l])\n",
        "            loss = -(batch_label * np.log(predictions)).sum(axis=-1).mean()\n",
        "            losses.append(loss) \n",
        "            self.backward(batch_label)\n",
        "            optimizer.step()\n",
        "\n",
        "          \"\"\"\n",
        "          indices = np.random.choice(data_x.shape[0], 100)\n",
        "          batch = data_x[indices]\n",
        "          batch_label=np.eye(10)[np.array(data_y[indices])]\n",
        "          predictions = self.forward(batch)\n",
        "          #print(predictions.max())        \n",
        "          loss = -(batch_label * np.log(predictions)).sum(axis=-1).mean()          \n",
        "          losses.append(loss)          \n",
        "          self.backward(batch_label)\n",
        "          optimizer.step()\n",
        "          \"\"\"\n",
        "          training_accu.append(np.mean(self.predict(data_x)==data_y))\n",
        "          testing_accu.append(np.mean(self.predict(x_test)==y_test))\n",
        "        \"\"\"\n",
        "        training_pred=self.predict()\n",
        "        training_acc=self.evaluate_acc(training_pred,data_y[indices])\n",
        "        training_accu.append(training_acc)\n",
        "\n",
        "        testing_pred=self.predict(x_test)\n",
        "        testing_acc=self.evaluate_acc(testing_pred,y_test)\n",
        "        testing_accu.append(testing_acc)\n",
        "        \"\"\"\n",
        "          \n",
        "          \n",
        "        plt.plot(losses,label='learning rate'+str(optimizer.lr))\n",
        "       \n",
        "        plt.legend()\n",
        "        plt.xlabel(\"Epoch\")\n",
        "        plt.ylabel(\"Cross entropy loss\")\n",
        "        return training_accu,testing_accu\n",
        "        \n",
        "\n",
        "   def predict(self,test):\n",
        "        yh_all = np.argmax(self.forward(test), axis=-1)    \n",
        "        return yh_all\n",
        "\n",
        "   def evaluate_acc(self, predicted_ys, true_ys): \n",
        "        result = 0\n",
        "        for predicted_y, true_y in zip(predicted_ys, true_ys):\n",
        "            if predicted_y == true_y:\n",
        "                result += 1\n",
        "        return result/len(true_ys)"
      ],
      "metadata": {
        "id": "8PQdXxibfSeF"
      },
      "execution_count": null,
      "outputs": []
    },
    {
      "cell_type": "code",
      "source": [
        "class Optimizer:\n",
        "    def __init__(self, net: MLP):\n",
        "        self.net = net\n",
        "\n",
        "    def step(self):\n",
        "        for layer in self.net.layers_list[::-1]:\n",
        "            if layer.parameters is not None:\n",
        "                self.update(layer.parameters, layer.gradient)\n",
        "\n",
        "    def update(self, params, gradient):\n",
        "        raise NotImplementedError\n",
        "\n",
        "class GradientDescentOptimizer(Optimizer):\n",
        "    def __init__(self, net: MLP, lr: float,alpha:float):\n",
        "        super().__init__(net)\n",
        "        self.lr = lr\n",
        "        self.alpha=alpha\n",
        "\n",
        "    def update(self, params, gradient):\n",
        "        for (p, g) in zip(params, gradient):\n",
        "            p -= self.lr * (g.mean(axis=0)+self.alpha*p"
      ],
      "metadata": {
        "id": "uFvT1GZofZ2Y"
      },
      "execution_count": null,
      "outputs": []
    },
    {
      "cell_type": "code",
      "source": [
        "import random\n",
        "np.random.seed(551)\n",
        "from sklearn import model_selection\n",
        "x_train=np.array(x_train,dtype=np.float128)\n",
        "x_train1, x_valid, y_train1, y_valid = model_selection.train_test_split(x_train, y_train, test_size = 0.5, random_state=1, shuffle=True)"
      ],
      "metadata": {
        "id": "OsLtNVmNfgP1"
      },
      "execution_count": null,
      "outputs": []
    },
    {
      "cell_type": "code",
      "source": [
        "x_train=np.array(x_train,dtype=np.float128)\n",
        "\n",
        "np.random.seed(551)\n",
        "\n",
        "mlp0=MLP([784,10],'ReLU',0,0)\n",
        "opt1=GradientDescentOptimizer(mlp0, 1e-1,1e-2)\n",
        "\n",
        "training_accu,testing_accu=mlp0.fit(opt1,x_train,y_train,8,x_test,y_test)\n",
        "\n",
        "y_pred=mlp0.predict(x_test)\n",
        "print(mlp0.evaluate_acc(y_pred,y_test))"
      ],
      "metadata": {
        "id": "QgoU7NLLfkeo"
      },
      "execution_count": null,
      "outputs": []
    },
    {
      "cell_type": "code",
      "source": [
        "plt.plot(training_accu,label='training')\n",
        "plt.plot(testing_accu,label='testing')\n",
        "plt.title('MLP with no hidden layer')\n",
        "plt.legend()\n",
        "plt.xlabel(\"Epoch\")\n",
        "plt.ylabel(\"accuracy\")"
      ],
      "metadata": {
        "id": "NHCaCsvHfpQJ"
      },
      "execution_count": null,
      "outputs": []
    },
    {
      "cell_type": "code",
      "source": [
        "mlp1=MLP([784,10],'ReLU',1,128)\n",
        "opt2=GradientDescentOptimizer(mlp1, 0.1,0.01)\n",
        "\n",
        "training_accu,testing_accu=mlp1.fit(opt2,x_train,y_train,8,x_test,y_test)\n",
        "\n",
        "y_pred1=mlp1.predict(x_test)\n",
        "print(mlp1.evaluate_acc(y_pred1,y_test))"
      ],
      "metadata": {
        "id": "PdHgTtaufqJV"
      },
      "execution_count": null,
      "outputs": []
    },
    {
      "cell_type": "code",
      "source": [
        "plt.plot(training_accu,label='training')\n",
        "plt.plot(testing_accu,label='testing')\n",
        "plt.title('MLP with one hidden layer')\n",
        "plt.legend()\n",
        "plt.xlabel(\"Epoch\")\n",
        "plt.ylabel(\"accuracy\")"
      ],
      "metadata": {
        "id": "mCo4_9iyfujX"
      },
      "execution_count": null,
      "outputs": []
    },
    {
      "cell_type": "code",
      "source": [
        "mlp2=MLP([784,10],'ReLU',2,128)\n",
        "opt3=GradientDescentOptimizer(mlp2, 0.1,0.01)\n",
        "training_accu,testing_accu=mlp2.fit(opt3,x_train,y_train,8,x_test,y_test)\n",
        "\n",
        "y_pred=mlp2.predict(x_test)\n",
        "print(mlp2.evaluate_acc(y_pred,y_test))"
      ],
      "metadata": {
        "id": "OWlr0oCCfzac"
      },
      "execution_count": null,
      "outputs": []
    },
    {
      "cell_type": "code",
      "source": [
        "plt.plot(training_accu,label='training')\n",
        "plt.plot(testing_accu,label='testing')\n",
        "plt.title('MLP with two hidden layers')\n",
        "plt.legend()\n",
        "plt.xlabel(\"Epoch\")\n",
        "plt.ylabel(\"accuracy\")"
      ],
      "metadata": {
        "id": "mwdGdb-_f1EJ"
      },
      "execution_count": null,
      "outputs": []
    },
    {
      "cell_type": "code",
      "source": [
        "#for activationn function is tanh\n",
        "class TanhLayer(NeuralNetLayer):\n",
        "    def __init__(self):\n",
        "        super().__init__()\n",
        "        \n",
        "    def forward(self, x):\n",
        "        self.gradient=1-np.tanh(x)*np.tanh(x)\n",
        "        return np.tanh(x)\n",
        "\n",
        "    def backward(self, gradient):\n",
        "        assert self.gradient is not None, \"Must call forward before backward\"\n",
        "       # print(\"ReLU backpropagating\")\n",
        "        return gradient * self.gradient\n",
        "    \n",
        "    def check_grad(self,x,target):\n",
        "      return check_grad(self.forward(x), self.backward(target), [1.5, -1.5])"
      ],
      "metadata": {
        "id": "XQl3aaSRf3h1"
      },
      "execution_count": null,
      "outputs": []
    },
    {
      "cell_type": "code",
      "source": [
        "#for activationn function is Leaky-ReLU\n",
        "class Leaky_ReLULayer(NeuralNetLayer):\n",
        "    def __init__(self):\n",
        "        super().__init__()\n",
        "        \n",
        "    def forward(self, x):\n",
        "        #print(x)\n",
        "        self.gradient = np.where(x > 0, 1.0, 1e-2)\n",
        "       # print(\"ReLU is executing\")\n",
        "        return np.maximum(0, x)+1e-2*np.minimum(0,x)\n",
        "\n",
        "    def backward(self, gradient):\n",
        "        assert self.gradient is not None, \"Must call forward before backward\"\n",
        "       # print(\"ReLU backpropagating\")\n",
        "        return gradient * self.gradient\n",
        "    \n",
        "    def check_grad(self,x,target):\n",
        "      return check_grad(self.forward(x), self.backward(target), [1.5, -1.5])"
      ],
      "metadata": {
        "id": "ujPOsxQYf8Pf"
      },
      "execution_count": null,
      "outputs": []
    },
    {
      "cell_type": "code",
      "source": [
        "mlp_tanh=MLP([784,10],'tanh',2,128)\n",
        "opt4=GradientDescentOptimizer(mlp_tanh, 0.1,0.01)\n",
        "train,test=mlp_tanh.fit(opt4,x_train,y_train,8,x_test,y_test)\n",
        "\n",
        "y_pred=mlp_tanh.predict(x_test)\n",
        "print(mlp_tanh.evaluate_acc(y_pred,y_test))"
      ],
      "metadata": {
        "id": "825pUkWUf-NH"
      },
      "execution_count": null,
      "outputs": []
    },
    {
      "cell_type": "code",
      "source": [
        "plt.plot(train,label='training')\n",
        "plt.plot(test,label='testing')\n",
        "plt.title('MLP with two hidden layers using Tanh')\n",
        "plt.legend()\n",
        "plt.xlabel(\"Epoch\")\n",
        "plt.ylabel(\"accuracy\")"
      ],
      "metadata": {
        "id": "2dpw0Tddf-Z0"
      },
      "execution_count": null,
      "outputs": []
    },
    {
      "cell_type": "code",
      "source": [
        "mlp_Leaky_ReLU=MLP([784,10],'Leaky-ReLU',2,128)\n",
        "opt5=GradientDescentOptimizer(mlp_Leaky_ReLU, 0.1,0.01)\n",
        "train,test=mlp_Leaky_ReLU.fit(opt5,x_train,y_train,8,x_test,y_test)\n",
        "\n",
        "y_pred=mlp_Leaky_ReLU.predict(x_test)\n",
        "print(mlp_Leaky_ReLU.evaluate_acc(y_pred,y_test))"
      ],
      "metadata": {
        "id": "NYM7NpzCgB9e"
      },
      "execution_count": null,
      "outputs": []
    },
    {
      "cell_type": "code",
      "source": [
        "plt.plot(train,label='training')\n",
        "plt.plot(test,label='testing')\n",
        "plt.title('MLP with two hidden layers using Leaky-ReLU')\n",
        "plt.legend()\n",
        "plt.xlabel(\"Epoch\")\n",
        "plt.ylabel(\"accuracy\")"
      ],
      "metadata": {
        "id": "dTxO_IIHgDmb"
      },
      "execution_count": null,
      "outputs": []
    },
    {
      "cell_type": "code",
      "source": [
        "lambda_L2=[0.4,0.6,0.8]\n",
        "\n",
        "for i in lambda_L2:\n",
        "  mlp_L2=MLP([784,10],'ReLU',2,128)\n",
        "  opt_L2=GradientDescentOptimizer(mlp_L2, 0.1,i)\n",
        "  training_accu,testing_accu=mlp_L2.fit(opt_L2,x_train1,y_train1,8,x_valid,y_valid)\n",
        "\n",
        "  y_pred=mlp_L2.predict(x_test)\n",
        "  print(mlp_L2.evaluate_acc(y_pred,y_test))"
      ],
      "metadata": {
        "id": "y9uXJ3OIgFxn"
      },
      "execution_count": null,
      "outputs": []
    },
    {
      "cell_type": "code",
      "source": [
        "x_train_unnorm=np.array(x_train_unnorm,dtype=np.float128)\n",
        "mlp_un=MLP([784,10],'ReLU',2,128)\n",
        "opt_un=GradientDescentOptimizer(mlp_un, 1e-3,0.01)\n",
        "training_accu,testing_accu=mlp_un.fit(opt_un,x_train_unnorm,y_train,8,x_test,y_test)\n",
        "\n",
        "y_pred=mlp_un.predict(x_test_unnorm)\n",
        "print(mlp_un.evaluate_acc(y_pred,y_test))"
      ],
      "metadata": {
        "id": "H8KQrr-3gKp_"
      },
      "execution_count": null,
      "outputs": []
    },
    {
      "cell_type": "code",
      "source": [
        "plt.plot(training_accu,label='training')\n",
        "plt.plot(testing_accu,label='testing')\n",
        "plt.title('MLP with two hidden layers using unnormalized images')\n",
        "plt.legend()\n",
        "plt.xlabel(\"Epoch\")\n",
        "plt.ylabel(\"accuracy\")"
      ],
      "metadata": {
        "id": "uRu4lXTugMeT"
      },
      "execution_count": null,
      "outputs": []
    },
    {
      "cell_type": "code",
      "source": [
        "table=['learning rate','hidden layers','training accuracy','validation accuracy']\n",
        "#learning_rate=[0.1,0.05,0.01]\n",
        "layer=[3]\n",
        "\n",
        "\n",
        "for j in layer:\n",
        "  mlp_q6=MLP([784,10],'ReLU',j,256)\n",
        "  opt_q6=GradientDescentOptimizer(mlp_q6, 0.01,0.1)\n",
        "  training_accu,testing_accu=mlp_q6.fit(opt_q6,x_train1,y_train1,8,x_valid,y_valid)\n",
        "    \n",
        "  row = []\n",
        "  #row.append(learning_rate[i])\n",
        "  #row.append(layer[j])\n",
        "    #row.append(model.evaluate_acc(y_train_pred, y_train_split))\n",
        "    #row.append(model.evaluate_acc(y_val_pred, y_val))\n",
        "  table.append(j)\n",
        "\n",
        "print(tabulate(table, headers='firstrow', tablefmt='fancy_grid'))"
      ],
      "metadata": {
        "id": "Nq-wxJvkgSCG"
      },
      "execution_count": null,
      "outputs": []
    },
    {
      "cell_type": "code",
      "source": [
        "tabel1=['L2 regularization','training accuracy','validation accuracy']\n",
        "l2_regularization=[0.4,0.6,0.8]\n",
        "\n",
        "\n",
        "\n",
        "for i in l2_regularization:\n",
        "  mlp_q61=MLP([784,10],'ReLU',0,128)\n",
        "  opt_q61=GradientDescentOptimizer(mlp_q61, 0.01,i)\n",
        "  training_accu,testing_accu=mlp_q6.fit(opt_q61,x_train1,y_train1,8,x_valid,y_valid)\n",
        "    \n",
        "  row = []\n",
        "  row.append(l2_regularization[i])\n",
        "    \n",
        "    #row.append(model.evaluate_acc(y_train_pred, y_train_split))\n",
        "    #row.append(model.evaluate_acc(y_val_pred, y_val))\n",
        "  table1.append(row.copy())\n",
        "\n",
        "print(tabulate(table1, headers='firstrow', tablefmt='fancy_grid'))"
      ],
      "metadata": {
        "id": "v3XhfPt5gYmr"
      },
      "execution_count": null,
      "outputs": []
    },
    {
      "cell_type": "code",
      "source": [
        "mlp2=MLP([784,10],'ReLU',2,256)\n",
        "opt3=GradientDescentOptimizer(mlp2, 0.1,0.01)\n",
        "training_accu,testing_accu=mlp2.fit(opt3,x_train,y_train,8,x_test,y_test)\n",
        "\n",
        "y_pred=mlp2.predict(x_test)\n",
        "print(mlp2.evaluate_acc(y_pred,y_test))"
      ],
      "metadata": {
        "id": "QbOe89hpgcq-"
      },
      "execution_count": null,
      "outputs": []
    },
    {
      "cell_type": "code",
      "source": [
        "plt.plot(training_accu,label='training')\n",
        "plt.plot(testing_accu,label='testing')\n",
        "plt.title('MLP with two hidden layers and 210 hidden units')\n",
        "plt.legend()\n",
        "plt.xlabel(\"Epoch\")\n",
        "plt.ylabel(\"accuracy\")"
      ],
      "metadata": {
        "id": "VrJmlDczgecJ"
      },
      "execution_count": null,
      "outputs": []
    },
    {
      "cell_type": "code",
      "source": [
        "mlp2=MLP([784,10],'ReLU',2,64)\n",
        "opt3=GradientDescentOptimizer(mlp2, 0.1,0.01)\n",
        "training_accu,testing_accu=mlp2.fit(opt3,x_train,y_train,8,x_test,y_test)\n",
        "\n",
        "y_pred=mlp2.predict(x_test)\n",
        "print(mlp2.evaluate_acc(y_pred,y_test))"
      ],
      "metadata": {
        "id": "C6C08lIKggI-"
      },
      "execution_count": null,
      "outputs": []
    },
    {
      "cell_type": "code",
      "source": [
        "plt.plot(training_accu,label='training')\n",
        "plt.plot(testing_accu,label='testing')\n",
        "plt.title('MLP with two hidden layers and 50 hidden units')\n",
        "plt.legend()\n",
        "plt.xlabel(\"Epoch\")\n",
        "plt.ylabel(\"accuracy\")"
      ],
      "metadata": {
        "id": "kX2chLPNgg4Y"
      },
      "execution_count": null,
      "outputs": []
    },
    {
      "cell_type": "code",
      "source": [
        "learning_rate=[0.01,0.05,0.1]\n",
        "\n",
        "for i in learning_rate:\n",
        "    mlp2=MLP([784,10],'ReLU',2,128)\n",
        "    opt3=GradientDescentOptimizer(mlp2, i,0.01)\n",
        "    _,_=mlp2.fit(opt3,x_train1,y_train1,8,x_valid,y_valid)\n",
        "    y_pred=mlp2.predict(x_valid)\n",
        "    acc=mlp2.evaluate_acc(y_pred,y_valid)\n",
        "    print(acc)"
      ],
      "metadata": {
        "id": "cKkanYHlgiYP"
      },
      "execution_count": null,
      "outputs": []
    },
    {
      "cell_type": "code",
      "source": [
        "#splitting the data\n",
        "train_x_0 = x_train1[:10**0]\n",
        "train_y_0 = y_train1[:10**0]\n",
        "valid_x_0 = x_valid[:10**0]\n",
        "valid_y_0 = y_valid[:10**0]\n",
        "train_x_1 = x_train1[:10**1]\n",
        "train_y_1 = y_train1[:10**1]\n",
        "train_x_2 = x_train1[:10**2]\n",
        "train_y_2 = y_train1[:10**2]\n",
        "train_x_3 = x_train1[:10**3]\n",
        "train_y_3 = y_train1[:10**3]\n",
        "train_x_4 = x_train1[:10**4]\n",
        "train_y_4 = y_train1[:10**4]"
      ],
      "metadata": {
        "id": "x7LsvGkTgllo"
      },
      "execution_count": null,
      "outputs": []
    },
    {
      "cell_type": "code",
      "source": [
        "train_x_0=np.array(train_x_0,dtype=np.float128)\n",
        "\n",
        "np.random.seed(551)\n",
        "\n",
        "mlp_0=MLP([784,10],'ReLU',2,128)\n",
        "opt_0=GradientDescentOptimizer(mlp_0, 0.1,0.01)\n",
        "\n",
        "training_accu,valid_accu=mlp_0.fit(opt_0,train_x_0,train_y_0,8,valid_x_0,valid_y_0)\n",
        "\n",
        "y_pred_0=mlp_0.predict(valid_x_0)\n",
        "print(mlp_0.evaluate_acc(y_pred_0,valid_y_0))"
      ],
      "metadata": {
        "id": "ie4oBmi-glv6"
      },
      "execution_count": null,
      "outputs": []
    }
  ],
  "metadata": {
    "accelerator": "GPU",
    "colab": {
      "toc_visible": true,
      "provenance": []
    },
    "gpuClass": "standard",
    "kernelspec": {
      "display_name": "Python 3",
      "name": "python3"
    },
    "language_info": {
      "name": "python"
    }
  },
  "nbformat": 4,
  "nbformat_minor": 0
}